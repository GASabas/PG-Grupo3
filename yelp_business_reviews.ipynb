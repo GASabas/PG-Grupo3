{
 "cells": [
  {
   "cell_type": "markdown",
   "metadata": {},
   "source": [
    "### DATA PT12 - Proyecto final - Grupo 2\n",
    "#### Control de calidad de los datos del archivo Yelp reviews"
   ]
  },
  {
   "cell_type": "code",
   "execution_count": 1,
   "metadata": {},
   "outputs": [],
   "source": [
    "import glob\n",
    "import matplotlib.pyplot as plt\n",
    "import numpy as np\n",
    "import os\n",
    "import pandas as pd\n",
    "import seaborn as sns\n",
    "import warnings\n",
    "warnings.filterwarnings(\"ignore\")"
   ]
  },
  {
   "cell_type": "code",
   "execution_count": 23,
   "metadata": {},
   "outputs": [],
   "source": [
    "# Obtener la lista de archivos JSON en carpeta\n",
    "#archivos_json = glob.glob(os.path.join(\"datos/yelp\", \"*.json\"))"
   ]
  },
  {
   "cell_type": "code",
   "execution_count": 2,
   "metadata": {},
   "outputs": [
    {
     "name": "stdout",
     "output_type": "stream",
     "text": [
      "Chunk 0 guardado.\n",
      "Chunk 1 guardado.\n",
      "Chunk 2 guardado.\n",
      "Chunk 3 guardado.\n",
      "Chunk 4 guardado.\n",
      "Chunk 5 guardado.\n",
      "Chunk 6 guardado.\n",
      "Chunk 7 guardado.\n",
      "Chunk 8 guardado.\n",
      "Chunk 9 guardado.\n",
      "Chunk 10 guardado.\n",
      "Chunk 11 guardado.\n",
      "Chunk 12 guardado.\n",
      "Chunk 13 guardado.\n",
      "Chunk 14 guardado.\n",
      "Chunk 15 guardado.\n",
      "Chunk 16 guardado.\n",
      "Chunk 17 guardado.\n",
      "Chunk 18 guardado.\n",
      "Chunk 19 guardado.\n",
      "Chunk 20 guardado.\n",
      "Chunk 21 guardado.\n",
      "Chunk 22 guardado.\n",
      "Chunk 23 guardado.\n",
      "Chunk 24 guardado.\n",
      "Chunk 25 guardado.\n",
      "Chunk 26 guardado.\n",
      "Chunk 27 guardado.\n",
      "Chunk 28 guardado.\n",
      "Chunk 29 guardado.\n",
      "Chunk 30 guardado.\n",
      "Chunk 31 guardado.\n",
      "Chunk 32 guardado.\n",
      "Chunk 33 guardado.\n",
      "Chunk 34 guardado.\n",
      "Chunk 35 guardado.\n",
      "Chunk 36 guardado.\n",
      "Chunk 37 guardado.\n",
      "Chunk 38 guardado.\n",
      "Chunk 39 guardado.\n",
      "Chunk 40 guardado.\n",
      "Chunk 41 guardado.\n",
      "Chunk 42 guardado.\n",
      "Chunk 43 guardado.\n",
      "Chunk 44 guardado.\n",
      "Chunk 45 guardado.\n",
      "Chunk 46 guardado.\n",
      "Chunk 47 guardado.\n",
      "Chunk 48 guardado.\n",
      "Chunk 49 guardado.\n",
      "Chunk 50 guardado.\n",
      "Chunk 51 guardado.\n",
      "Chunk 52 guardado.\n",
      "Chunk 53 guardado.\n",
      "Chunk 54 guardado.\n",
      "Chunk 55 guardado.\n",
      "Chunk 56 guardado.\n",
      "Chunk 57 guardado.\n",
      "Chunk 58 guardado.\n",
      "Chunk 59 guardado.\n",
      "Chunk 60 guardado.\n",
      "Chunk 61 guardado.\n",
      "Chunk 62 guardado.\n",
      "Chunk 63 guardado.\n",
      "Chunk 64 guardado.\n",
      "Chunk 65 guardado.\n",
      "Chunk 66 guardado.\n",
      "Chunk 67 guardado.\n",
      "Chunk 68 guardado.\n",
      "Chunk 69 guardado.\n"
     ]
    }
   ],
   "source": [
    "archivo = 'Yelp\\\\review.json'\n",
    "chunks = pd.read_json(archivo, lines=True, chunksize=100000)  # Leer en bloques de 100,000 filas\n",
    "\n",
    "# Guardar cada chunk en un archivo pickle\n",
    "# Esto evita que la memoria se llene al procesar el JSON por partes.\n",
    "for i, chunk in enumerate(chunks):\n",
    "    chunk.to_pickle(f'Yelp\\\\review_part_{i}.pkl')  # Guarda en archivos más pequeños\n",
    "    print(f'Chunk {i} guardado.')"
   ]
  },
  {
   "cell_type": "code",
   "execution_count": 4,
   "metadata": {},
   "outputs": [
    {
     "name": "stdout",
     "output_type": "stream",
     "text": [
      "                review_id                 user_id             business_id  \\\n",
      "0  KU_O5udG6zpxOg-VcAEodg  mh_-eMZ6K5RLWhZyISBhwA  XQfwVwDr-v0ZS3_CbbE5Xw   \n",
      "1  BiTunyQ73aT9WBnpR9DZGw  OyoGAe7OKpv6SyGZT5g77Q  7ATYjTIgM3jUlt4UM3IypQ   \n",
      "2  saUsX_uimxRlCVr67Z4Jig  8g_iMtfSiwikVnbP2etR0A  YjUWPpI6HXG530lwP-fb2A   \n",
      "3  AqPFMleE6RsU23_auESxiA  _7bHUi9Uuf5__HHc_Q8guQ  kxX2SOes4o-D3ZQBkiMRfA   \n",
      "4  Sx8TMOWLNuJBWer-0pcmoA  bcjbaE6dDog4jkNY91ncLQ  e4Vwtrqf-wpJfwesgvdgxQ   \n",
      "\n",
      "   stars  useful  funny  cool  \\\n",
      "0      3       0      0     0   \n",
      "1      5       1      0     1   \n",
      "2      3       0      0     0   \n",
      "3      5       1      0     1   \n",
      "4      4       1      0     1   \n",
      "\n",
      "                                                text                date  \n",
      "0  If you decide to eat here, just be aware it is... 2018-07-07 22:09:11  \n",
      "1  I've taken a lot of spin classes over the year... 2012-01-03 15:28:18  \n",
      "2  Family diner. Had the buffet. Eclectic assortm... 2014-02-05 20:30:30  \n",
      "3  Wow!  Yummy, different,  delicious.   Our favo... 2015-01-04 00:01:03  \n",
      "4  Cute interior and owner (?) gave us tour of up... 2017-01-14 20:54:15  \n"
     ]
    }
   ],
   "source": [
    "import glob\n",
    "\n",
    "# Obtener lista de archivos .pkl guardados\n",
    "archivos_pkl = glob.glob('Yelp\\\\review_part_*.pkl')\n",
    "\n",
    "# Leer y concatenar los DataFrames\n",
    "df_reviews = pd.concat([pd.read_pickle(f) for f in archivos_pkl])\n",
    "\n",
    "print(df_reviews.head())"
   ]
  },
  {
   "cell_type": "code",
   "execution_count": 5,
   "metadata": {},
   "outputs": [
    {
     "name": "stdout",
     "output_type": "stream",
     "text": [
      "text NaN 0\n",
      "stars NaN 0\n"
     ]
    }
   ],
   "source": [
    "print('text NaN', df_reviews['text'].isna().sum())\n",
    "print('stars NaN', df_reviews['stars'].isna().sum())"
   ]
  },
  {
   "cell_type": "markdown",
   "metadata": {},
   "source": [
    "El dataframe reviews de Yelp no tiene valores nulos para la columna text (con los comentarios de las reseñas) ni para la columna stars (con la calificacion) "
   ]
  },
  {
   "cell_type": "code",
   "execution_count": 6,
   "metadata": {},
   "outputs": [],
   "source": [
    "# Convertir la columna a tipo datetime\n",
    "# Vamos a asegurarnos de que la columna \"date\" esté en el formato correcto:\n",
    "df_reviews['date'] = pd.to_datetime(df_reviews['date'], errors='coerce')"
   ]
  },
  {
   "cell_type": "code",
   "execution_count": 7,
   "metadata": {},
   "outputs": [
    {
     "name": "stdout",
     "output_type": "stream",
     "text": [
      "<class 'pandas.core.frame.DataFrame'>\n",
      "Index: 6990280 entries, 0 to 999999\n",
      "Data columns (total 9 columns):\n",
      " #   Column       Dtype         \n",
      "---  ------       -----         \n",
      " 0   review_id    object        \n",
      " 1   user_id      object        \n",
      " 2   business_id  object        \n",
      " 3   stars        int64         \n",
      " 4   useful       int64         \n",
      " 5   funny        int64         \n",
      " 6   cool         int64         \n",
      " 7   text         object        \n",
      " 8   date         datetime64[ns]\n",
      "dtypes: datetime64[ns](1), int64(4), object(4)\n",
      "memory usage: 533.3+ MB\n"
     ]
    }
   ],
   "source": [
    "df_reviews.info()"
   ]
  },
  {
   "cell_type": "code",
   "execution_count": 8,
   "metadata": {},
   "outputs": [
    {
     "data": {
      "text/html": [
       "<div>\n",
       "<style scoped>\n",
       "    .dataframe tbody tr th:only-of-type {\n",
       "        vertical-align: middle;\n",
       "    }\n",
       "\n",
       "    .dataframe tbody tr th {\n",
       "        vertical-align: top;\n",
       "    }\n",
       "\n",
       "    .dataframe thead th {\n",
       "        text-align: right;\n",
       "    }\n",
       "</style>\n",
       "<table border=\"1\" class=\"dataframe\">\n",
       "  <thead>\n",
       "    <tr style=\"text-align: right;\">\n",
       "      <th></th>\n",
       "      <th>review_id</th>\n",
       "      <th>user_id</th>\n",
       "      <th>business_id</th>\n",
       "      <th>stars</th>\n",
       "      <th>useful</th>\n",
       "      <th>funny</th>\n",
       "      <th>cool</th>\n",
       "      <th>text</th>\n",
       "      <th>date</th>\n",
       "    </tr>\n",
       "  </thead>\n",
       "  <tbody>\n",
       "    <tr>\n",
       "      <th>0</th>\n",
       "      <td>KU_O5udG6zpxOg-VcAEodg</td>\n",
       "      <td>mh_-eMZ6K5RLWhZyISBhwA</td>\n",
       "      <td>XQfwVwDr-v0ZS3_CbbE5Xw</td>\n",
       "      <td>3</td>\n",
       "      <td>0</td>\n",
       "      <td>0</td>\n",
       "      <td>0</td>\n",
       "      <td>If you decide to eat here, just be aware it is...</td>\n",
       "      <td>2018-07-07 22:09:11</td>\n",
       "    </tr>\n",
       "    <tr>\n",
       "      <th>1</th>\n",
       "      <td>BiTunyQ73aT9WBnpR9DZGw</td>\n",
       "      <td>OyoGAe7OKpv6SyGZT5g77Q</td>\n",
       "      <td>7ATYjTIgM3jUlt4UM3IypQ</td>\n",
       "      <td>5</td>\n",
       "      <td>1</td>\n",
       "      <td>0</td>\n",
       "      <td>1</td>\n",
       "      <td>I've taken a lot of spin classes over the year...</td>\n",
       "      <td>2012-01-03 15:28:18</td>\n",
       "    </tr>\n",
       "    <tr>\n",
       "      <th>2</th>\n",
       "      <td>saUsX_uimxRlCVr67Z4Jig</td>\n",
       "      <td>8g_iMtfSiwikVnbP2etR0A</td>\n",
       "      <td>YjUWPpI6HXG530lwP-fb2A</td>\n",
       "      <td>3</td>\n",
       "      <td>0</td>\n",
       "      <td>0</td>\n",
       "      <td>0</td>\n",
       "      <td>Family diner. Had the buffet. Eclectic assortm...</td>\n",
       "      <td>2014-02-05 20:30:30</td>\n",
       "    </tr>\n",
       "    <tr>\n",
       "      <th>3</th>\n",
       "      <td>AqPFMleE6RsU23_auESxiA</td>\n",
       "      <td>_7bHUi9Uuf5__HHc_Q8guQ</td>\n",
       "      <td>kxX2SOes4o-D3ZQBkiMRfA</td>\n",
       "      <td>5</td>\n",
       "      <td>1</td>\n",
       "      <td>0</td>\n",
       "      <td>1</td>\n",
       "      <td>Wow!  Yummy, different,  delicious.   Our favo...</td>\n",
       "      <td>2015-01-04 00:01:03</td>\n",
       "    </tr>\n",
       "    <tr>\n",
       "      <th>4</th>\n",
       "      <td>Sx8TMOWLNuJBWer-0pcmoA</td>\n",
       "      <td>bcjbaE6dDog4jkNY91ncLQ</td>\n",
       "      <td>e4Vwtrqf-wpJfwesgvdgxQ</td>\n",
       "      <td>4</td>\n",
       "      <td>1</td>\n",
       "      <td>0</td>\n",
       "      <td>1</td>\n",
       "      <td>Cute interior and owner (?) gave us tour of up...</td>\n",
       "      <td>2017-01-14 20:54:15</td>\n",
       "    </tr>\n",
       "  </tbody>\n",
       "</table>\n",
       "</div>"
      ],
      "text/plain": [
       "                review_id                 user_id             business_id  \\\n",
       "0  KU_O5udG6zpxOg-VcAEodg  mh_-eMZ6K5RLWhZyISBhwA  XQfwVwDr-v0ZS3_CbbE5Xw   \n",
       "1  BiTunyQ73aT9WBnpR9DZGw  OyoGAe7OKpv6SyGZT5g77Q  7ATYjTIgM3jUlt4UM3IypQ   \n",
       "2  saUsX_uimxRlCVr67Z4Jig  8g_iMtfSiwikVnbP2etR0A  YjUWPpI6HXG530lwP-fb2A   \n",
       "3  AqPFMleE6RsU23_auESxiA  _7bHUi9Uuf5__HHc_Q8guQ  kxX2SOes4o-D3ZQBkiMRfA   \n",
       "4  Sx8TMOWLNuJBWer-0pcmoA  bcjbaE6dDog4jkNY91ncLQ  e4Vwtrqf-wpJfwesgvdgxQ   \n",
       "\n",
       "   stars  useful  funny  cool  \\\n",
       "0      3       0      0     0   \n",
       "1      5       1      0     1   \n",
       "2      3       0      0     0   \n",
       "3      5       1      0     1   \n",
       "4      4       1      0     1   \n",
       "\n",
       "                                                text                date  \n",
       "0  If you decide to eat here, just be aware it is... 2018-07-07 22:09:11  \n",
       "1  I've taken a lot of spin classes over the year... 2012-01-03 15:28:18  \n",
       "2  Family diner. Had the buffet. Eclectic assortm... 2014-02-05 20:30:30  \n",
       "3  Wow!  Yummy, different,  delicious.   Our favo... 2015-01-04 00:01:03  \n",
       "4  Cute interior and owner (?) gave us tour of up... 2017-01-14 20:54:15  "
      ]
     },
     "execution_count": 8,
     "metadata": {},
     "output_type": "execute_result"
    }
   ],
   "source": [
    "df_reviews.head()"
   ]
  },
  {
   "cell_type": "markdown",
   "metadata": {},
   "source": [
    "El dataframe tiene 6.990.280 reviews. La columna date esta en formato datetime."
   ]
  },
  {
   "cell_type": "code",
   "execution_count": 10,
   "metadata": {},
   "outputs": [],
   "source": [
    "# df_rev.to_parquet('/yelp/reviews.parquet' , engine='fastparquet')\n",
    "# El motor pyarrow maneja mejor archivos grandes y evita problemas de compresión:\n",
    "df_reviews.to_parquet('Yelp\\\\reviews.parquet', engine='pyarrow', compression='snappy')"
   ]
  },
  {
   "cell_type": "code",
   "execution_count": 11,
   "metadata": {},
   "outputs": [],
   "source": [
    "df_dup = df_reviews[df_reviews.duplicated(subset=['business_id',  'date', 'review_id', 'user_id'], keep=False)]\n",
    "df_dup = df_dup.sort_values([])"
   ]
  },
  {
   "cell_type": "code",
   "execution_count": 12,
   "metadata": {},
   "outputs": [
    {
     "name": "stdout",
     "output_type": "stream",
     "text": [
      "Empty DataFrame\n",
      "Columns: [review_id, user_id, business_id, stars, useful, funny, cool, text, date]\n",
      "Index: []\n"
     ]
    }
   ],
   "source": [
    "print(df_dup)"
   ]
  },
  {
   "cell_type": "markdown",
   "metadata": {},
   "source": [
    "No hay filas duplicadas"
   ]
  },
  {
   "cell_type": "code",
   "execution_count": 13,
   "metadata": {},
   "outputs": [
    {
     "name": "stdout",
     "output_type": "stream",
     "text": [
      "<class 'pandas.core.frame.DataFrame'>\n",
      "Index: 6990280 entries, 0 to 999999\n",
      "Data columns (total 9 columns):\n",
      " #   Column       Dtype         \n",
      "---  ------       -----         \n",
      " 0   review_id    object        \n",
      " 1   user_id      object        \n",
      " 2   business_id  object        \n",
      " 3   stars        int64         \n",
      " 4   useful       int64         \n",
      " 5   funny        int64         \n",
      " 6   cool         int64         \n",
      " 7   text         object        \n",
      " 8   date         datetime64[ns]\n",
      "dtypes: datetime64[ns](1), int64(4), object(4)\n",
      "memory usage: 533.3+ MB\n"
     ]
    }
   ],
   "source": [
    "df_reviews.info()"
   ]
  },
  {
   "cell_type": "code",
   "execution_count": 14,
   "metadata": {},
   "outputs": [],
   "source": [
    "# leo el archivo de las pizzerias mt_pizza_NJNY para hacer join con este\n",
    "# How to read a Parquet file into Pandas DataFrame?\n",
    "business = pd.read_parquet('Yelp\\\\business.parquet' , engine='fastparquet')"
   ]
  },
  {
   "cell_type": "code",
   "execution_count": 15,
   "metadata": {},
   "outputs": [
    {
     "name": "stdout",
     "output_type": "stream",
     "text": [
      "<class 'pandas.core.frame.DataFrame'>\n",
      "Index: 635 entries, 29 to 150172\n",
      "Data columns (total 10 columns):\n",
      " #   Column        Non-Null Count  Dtype  \n",
      "---  ------        --------------  -----  \n",
      " 0   address       635 non-null    object \n",
      " 1   business_id   635 non-null    object \n",
      " 2   city          635 non-null    object \n",
      " 3   latitude      635 non-null    float64\n",
      " 4   longitude     635 non-null    float64\n",
      " 5   name          635 non-null    object \n",
      " 6   postal_code   635 non-null    object \n",
      " 7   review_count  635 non-null    int64  \n",
      " 8   stars         635 non-null    float64\n",
      " 9   state         635 non-null    object \n",
      "dtypes: float64(3), int64(1), object(6)\n",
      "memory usage: 54.6+ KB\n"
     ]
    }
   ],
   "source": [
    "business.info()"
   ]
  },
  {
   "cell_type": "code",
   "execution_count": 16,
   "metadata": {},
   "outputs": [],
   "source": [
    "business_pizza = pd.merge(business, df_reviews, how='left', on='business_id') # tengo que hacer left join"
   ]
  },
  {
   "cell_type": "code",
   "execution_count": 17,
   "metadata": {},
   "outputs": [
    {
     "name": "stdout",
     "output_type": "stream",
     "text": [
      "<class 'pandas.core.frame.DataFrame'>\n",
      "RangeIndex: 41946 entries, 0 to 41945\n",
      "Data columns (total 18 columns):\n",
      " #   Column        Non-Null Count  Dtype         \n",
      "---  ------        --------------  -----         \n",
      " 0   address       41946 non-null  object        \n",
      " 1   business_id   41946 non-null  object        \n",
      " 2   city          41946 non-null  object        \n",
      " 3   latitude      41946 non-null  float64       \n",
      " 4   longitude     41946 non-null  float64       \n",
      " 5   name          41946 non-null  object        \n",
      " 6   postal_code   41946 non-null  object        \n",
      " 7   review_count  41946 non-null  int64         \n",
      " 8   stars_x       41946 non-null  float64       \n",
      " 9   state         41946 non-null  object        \n",
      " 10  review_id     41946 non-null  object        \n",
      " 11  user_id       41946 non-null  object        \n",
      " 12  stars_y       41946 non-null  int64         \n",
      " 13  useful        41946 non-null  int64         \n",
      " 14  funny         41946 non-null  int64         \n",
      " 15  cool          41946 non-null  int64         \n",
      " 16  text          41946 non-null  object        \n",
      " 17  date          41946 non-null  datetime64[ns]\n",
      "dtypes: datetime64[ns](1), float64(3), int64(5), object(9)\n",
      "memory usage: 5.8+ MB\n"
     ]
    }
   ],
   "source": [
    "business_pizza.info()"
   ]
  },
  {
   "cell_type": "markdown",
   "metadata": {},
   "source": [
    "Hay 41946 reseñas de Yelp para las pizzerias del estado"
   ]
  },
  {
   "cell_type": "code",
   "execution_count": 18,
   "metadata": {},
   "outputs": [],
   "source": [
    "# Modifico los nombres de las columnas que estan duplicados\n",
    "business_pizza.rename(columns={'stars_x': 'stars_business', 'stars_y': 'stars_by_user'}, inplace=True)"
   ]
  },
  {
   "cell_type": "code",
   "execution_count": 19,
   "metadata": {},
   "outputs": [
    {
     "data": {
      "text/html": [
       "<div>\n",
       "<style scoped>\n",
       "    .dataframe tbody tr th:only-of-type {\n",
       "        vertical-align: middle;\n",
       "    }\n",
       "\n",
       "    .dataframe tbody tr th {\n",
       "        vertical-align: top;\n",
       "    }\n",
       "\n",
       "    .dataframe thead th {\n",
       "        text-align: right;\n",
       "    }\n",
       "</style>\n",
       "<table border=\"1\" class=\"dataframe\">\n",
       "  <thead>\n",
       "    <tr style=\"text-align: right;\">\n",
       "      <th></th>\n",
       "      <th>address</th>\n",
       "      <th>business_id</th>\n",
       "      <th>city</th>\n",
       "      <th>latitude</th>\n",
       "      <th>longitude</th>\n",
       "      <th>name</th>\n",
       "      <th>postal_code</th>\n",
       "      <th>review_count</th>\n",
       "      <th>stars_business</th>\n",
       "      <th>state</th>\n",
       "      <th>review_id</th>\n",
       "      <th>user_id</th>\n",
       "      <th>stars_by_user</th>\n",
       "      <th>useful</th>\n",
       "      <th>funny</th>\n",
       "      <th>cool</th>\n",
       "      <th>text</th>\n",
       "      <th>date</th>\n",
       "    </tr>\n",
       "  </thead>\n",
       "  <tbody>\n",
       "    <tr>\n",
       "      <th>0</th>\n",
       "      <td>3001 Highway 31 W</td>\n",
       "      <td>sqSqqLy0sN8n2IZrAbzidQ</td>\n",
       "      <td>White House</td>\n",
       "      <td>36.464747</td>\n",
       "      <td>-86.659187</td>\n",
       "      <td>Domino's Pizza</td>\n",
       "      <td>37188</td>\n",
       "      <td>8</td>\n",
       "      <td>3.5</td>\n",
       "      <td>CA</td>\n",
       "      <td>Nd9IlLVwTdG0JEFYnA4cJw</td>\n",
       "      <td>_GZUfylSfVj2gNOkiqsSoQ</td>\n",
       "      <td>1</td>\n",
       "      <td>0</td>\n",
       "      <td>0</td>\n",
       "      <td>0</td>\n",
       "      <td>Undercook and overpaid! Got a pizza and it was...</td>\n",
       "      <td>2018-08-26 14:44:11</td>\n",
       "    </tr>\n",
       "    <tr>\n",
       "      <th>1</th>\n",
       "      <td>3001 Highway 31 W</td>\n",
       "      <td>sqSqqLy0sN8n2IZrAbzidQ</td>\n",
       "      <td>White House</td>\n",
       "      <td>36.464747</td>\n",
       "      <td>-86.659187</td>\n",
       "      <td>Domino's Pizza</td>\n",
       "      <td>37188</td>\n",
       "      <td>8</td>\n",
       "      <td>3.5</td>\n",
       "      <td>CA</td>\n",
       "      <td>gn8_q0-x36PvNli6Rc_Upw</td>\n",
       "      <td>-gwn8fgTfq18P_nfA-8dUQ</td>\n",
       "      <td>5</td>\n",
       "      <td>0</td>\n",
       "      <td>0</td>\n",
       "      <td>0</td>\n",
       "      <td>We always have great service here. Only once i...</td>\n",
       "      <td>2015-08-02 02:36:16</td>\n",
       "    </tr>\n",
       "    <tr>\n",
       "      <th>2</th>\n",
       "      <td>3001 Highway 31 W</td>\n",
       "      <td>sqSqqLy0sN8n2IZrAbzidQ</td>\n",
       "      <td>White House</td>\n",
       "      <td>36.464747</td>\n",
       "      <td>-86.659187</td>\n",
       "      <td>Domino's Pizza</td>\n",
       "      <td>37188</td>\n",
       "      <td>8</td>\n",
       "      <td>3.5</td>\n",
       "      <td>CA</td>\n",
       "      <td>5ekFz7qmWJNxT6uvM3HBBg</td>\n",
       "      <td>oRQRl1Dw6OZrVwi4y0K9Kg</td>\n",
       "      <td>4</td>\n",
       "      <td>0</td>\n",
       "      <td>0</td>\n",
       "      <td>0</td>\n",
       "      <td>Dominoes is getting better lately about gettin...</td>\n",
       "      <td>2017-04-04 01:00:51</td>\n",
       "    </tr>\n",
       "    <tr>\n",
       "      <th>3</th>\n",
       "      <td>3001 Highway 31 W</td>\n",
       "      <td>sqSqqLy0sN8n2IZrAbzidQ</td>\n",
       "      <td>White House</td>\n",
       "      <td>36.464747</td>\n",
       "      <td>-86.659187</td>\n",
       "      <td>Domino's Pizza</td>\n",
       "      <td>37188</td>\n",
       "      <td>8</td>\n",
       "      <td>3.5</td>\n",
       "      <td>CA</td>\n",
       "      <td>wrQ7t43gqQ4kIcWyuZYKpw</td>\n",
       "      <td>5BpQb0e4i9gw0HUjOpYUYA</td>\n",
       "      <td>5</td>\n",
       "      <td>1</td>\n",
       "      <td>0</td>\n",
       "      <td>0</td>\n",
       "      <td>Great pizzas and great service.  Love the orde...</td>\n",
       "      <td>2014-04-13 00:15:58</td>\n",
       "    </tr>\n",
       "    <tr>\n",
       "      <th>4</th>\n",
       "      <td>3001 Highway 31 W</td>\n",
       "      <td>sqSqqLy0sN8n2IZrAbzidQ</td>\n",
       "      <td>White House</td>\n",
       "      <td>36.464747</td>\n",
       "      <td>-86.659187</td>\n",
       "      <td>Domino's Pizza</td>\n",
       "      <td>37188</td>\n",
       "      <td>8</td>\n",
       "      <td>3.5</td>\n",
       "      <td>CA</td>\n",
       "      <td>MVEKSpJkjogSNRSbJ-0r7w</td>\n",
       "      <td>IN9v5sjMnlDfq2pid3pwBw</td>\n",
       "      <td>2</td>\n",
       "      <td>1</td>\n",
       "      <td>0</td>\n",
       "      <td>0</td>\n",
       "      <td>Ordered online, quoted 26-36 min, delivered al...</td>\n",
       "      <td>2016-10-22 01:03:48</td>\n",
       "    </tr>\n",
       "  </tbody>\n",
       "</table>\n",
       "</div>"
      ],
      "text/plain": [
       "             address             business_id         city   latitude  \\\n",
       "0  3001 Highway 31 W  sqSqqLy0sN8n2IZrAbzidQ  White House  36.464747   \n",
       "1  3001 Highway 31 W  sqSqqLy0sN8n2IZrAbzidQ  White House  36.464747   \n",
       "2  3001 Highway 31 W  sqSqqLy0sN8n2IZrAbzidQ  White House  36.464747   \n",
       "3  3001 Highway 31 W  sqSqqLy0sN8n2IZrAbzidQ  White House  36.464747   \n",
       "4  3001 Highway 31 W  sqSqqLy0sN8n2IZrAbzidQ  White House  36.464747   \n",
       "\n",
       "   longitude            name postal_code  review_count  stars_business state  \\\n",
       "0 -86.659187  Domino's Pizza       37188             8             3.5    CA   \n",
       "1 -86.659187  Domino's Pizza       37188             8             3.5    CA   \n",
       "2 -86.659187  Domino's Pizza       37188             8             3.5    CA   \n",
       "3 -86.659187  Domino's Pizza       37188             8             3.5    CA   \n",
       "4 -86.659187  Domino's Pizza       37188             8             3.5    CA   \n",
       "\n",
       "                review_id                 user_id  stars_by_user  useful  \\\n",
       "0  Nd9IlLVwTdG0JEFYnA4cJw  _GZUfylSfVj2gNOkiqsSoQ              1       0   \n",
       "1  gn8_q0-x36PvNli6Rc_Upw  -gwn8fgTfq18P_nfA-8dUQ              5       0   \n",
       "2  5ekFz7qmWJNxT6uvM3HBBg  oRQRl1Dw6OZrVwi4y0K9Kg              4       0   \n",
       "3  wrQ7t43gqQ4kIcWyuZYKpw  5BpQb0e4i9gw0HUjOpYUYA              5       1   \n",
       "4  MVEKSpJkjogSNRSbJ-0r7w  IN9v5sjMnlDfq2pid3pwBw              2       1   \n",
       "\n",
       "   funny  cool                                               text  \\\n",
       "0      0     0  Undercook and overpaid! Got a pizza and it was...   \n",
       "1      0     0  We always have great service here. Only once i...   \n",
       "2      0     0  Dominoes is getting better lately about gettin...   \n",
       "3      0     0  Great pizzas and great service.  Love the orde...   \n",
       "4      0     0  Ordered online, quoted 26-36 min, delivered al...   \n",
       "\n",
       "                 date  \n",
       "0 2018-08-26 14:44:11  \n",
       "1 2015-08-02 02:36:16  \n",
       "2 2017-04-04 01:00:51  \n",
       "3 2014-04-13 00:15:58  \n",
       "4 2016-10-22 01:03:48  "
      ]
     },
     "execution_count": 19,
     "metadata": {},
     "output_type": "execute_result"
    }
   ],
   "source": [
    "business_pizza.head()"
   ]
  },
  {
   "cell_type": "code",
   "execution_count": 20,
   "metadata": {},
   "outputs": [
    {
     "name": "stdout",
     "output_type": "stream",
     "text": [
      "             address             business_id         city   latitude  \\\n",
      "0  3001 Highway 31 W  sqSqqLy0sN8n2IZrAbzidQ  White House  36.464747   \n",
      "\n",
      "   longitude            name postal_code  review_count  stars_business state  \\\n",
      "0 -86.659187  Domino's Pizza       37188             8             3.5    CA   \n",
      "\n",
      "                review_id                 user_id  stars_by_user  useful  \\\n",
      "0  Nd9IlLVwTdG0JEFYnA4cJw  _GZUfylSfVj2gNOkiqsSoQ              1       0   \n",
      "\n",
      "   funny  cool                                               text  \\\n",
      "0      0     0  Undercook and overpaid! Got a pizza and it was...   \n",
      "\n",
      "                 date  \n",
      "0 2018-08-26 14:44:11  \n"
     ]
    }
   ],
   "source": [
    "print(business_pizza.iloc[[0]])"
   ]
  },
  {
   "cell_type": "code",
   "execution_count": 21,
   "metadata": {},
   "outputs": [],
   "source": [
    "# guardo df_pizza_NJNY_rev\n",
    "business_pizza.to_parquet('Yelp\\\\business_pizza_rev.parquet' , engine='fastparquet')"
   ]
  }
 ],
 "metadata": {
  "kernelspec": {
   "display_name": "Python 3",
   "language": "python",
   "name": "python3"
  },
  "language_info": {
   "codemirror_mode": {
    "name": "ipython",
    "version": 3
   },
   "file_extension": ".py",
   "mimetype": "text/x-python",
   "name": "python",
   "nbconvert_exporter": "python",
   "pygments_lexer": "ipython3",
   "version": "3.10.11"
  }
 },
 "nbformat": 4,
 "nbformat_minor": 2
}
