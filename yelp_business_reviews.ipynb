{
 "cells": [
  {
   "cell_type": "markdown",
   "metadata": {},
   "source": [
    "### DATA PT14-extra - Proyecto final - Grupo 3\n",
    "#### Control de calidad de los datos del archivo Yelp reviews"
   ]
  },
  {
   "cell_type": "code",
   "execution_count": 1,
   "metadata": {},
   "outputs": [],
   "source": [
    "import glob\n",
    "import matplotlib.pyplot as plt\n",
    "import numpy as np\n",
    "import os\n",
    "import pandas as pd\n",
    "import seaborn as sns\n",
    "import warnings\n",
    "warnings.filterwarnings(\"ignore\")"
   ]
  },
  {
   "cell_type": "code",
   "execution_count": 23,
   "metadata": {},
   "outputs": [],
   "source": [
    "# Obtener la lista de archivos JSON en carpeta\n",
    "#archivos_json = glob.glob(os.path.join(\"datos/yelp\", \"*.json\"))"
   ]
  },
  {
   "cell_type": "code",
   "execution_count": 4,
   "metadata": {},
   "outputs": [
    {
     "name": "stdout",
     "output_type": "stream",
     "text": [
      "Chunk 0 guardado.\n",
      "Chunk 1 guardado.\n",
      "Chunk 2 guardado.\n",
      "Chunk 3 guardado.\n",
      "Chunk 4 guardado.\n",
      "Chunk 5 guardado.\n",
      "Chunk 6 guardado.\n",
      "Chunk 7 guardado.\n",
      "Chunk 8 guardado.\n",
      "Chunk 9 guardado.\n",
      "Chunk 10 guardado.\n",
      "Chunk 11 guardado.\n",
      "Chunk 12 guardado.\n",
      "Chunk 13 guardado.\n",
      "Chunk 14 guardado.\n",
      "Chunk 15 guardado.\n",
      "Chunk 16 guardado.\n",
      "Chunk 17 guardado.\n",
      "Chunk 18 guardado.\n",
      "Chunk 19 guardado.\n",
      "Chunk 20 guardado.\n",
      "Chunk 21 guardado.\n",
      "Chunk 22 guardado.\n",
      "Chunk 23 guardado.\n",
      "Chunk 24 guardado.\n",
      "Chunk 25 guardado.\n",
      "Chunk 26 guardado.\n",
      "Chunk 27 guardado.\n",
      "Chunk 28 guardado.\n",
      "Chunk 29 guardado.\n",
      "Chunk 30 guardado.\n",
      "Chunk 31 guardado.\n",
      "Chunk 32 guardado.\n",
      "Chunk 33 guardado.\n",
      "Chunk 34 guardado.\n",
      "Chunk 35 guardado.\n",
      "Chunk 36 guardado.\n",
      "Chunk 37 guardado.\n",
      "Chunk 38 guardado.\n",
      "Chunk 39 guardado.\n",
      "Chunk 40 guardado.\n",
      "Chunk 41 guardado.\n",
      "Chunk 42 guardado.\n",
      "Chunk 43 guardado.\n",
      "Chunk 44 guardado.\n",
      "Chunk 45 guardado.\n",
      "Chunk 46 guardado.\n",
      "Chunk 47 guardado.\n",
      "Chunk 48 guardado.\n",
      "Chunk 49 guardado.\n",
      "Chunk 50 guardado.\n",
      "Chunk 51 guardado.\n",
      "Chunk 52 guardado.\n",
      "Chunk 53 guardado.\n",
      "Chunk 54 guardado.\n",
      "Chunk 55 guardado.\n",
      "Chunk 56 guardado.\n",
      "Chunk 57 guardado.\n",
      "Chunk 58 guardado.\n",
      "Chunk 59 guardado.\n",
      "Chunk 60 guardado.\n",
      "Chunk 61 guardado.\n",
      "Chunk 62 guardado.\n",
      "Chunk 63 guardado.\n",
      "Chunk 64 guardado.\n",
      "Chunk 65 guardado.\n",
      "Chunk 66 guardado.\n",
      "Chunk 67 guardado.\n",
      "Chunk 68 guardado.\n",
      "Chunk 69 guardado.\n"
     ]
    }
   ],
   "source": [
    "archivo = r'C:\\Users\\gonza\\OneDrive\\Desktop\\Proyecto Grupal Henry\\Yelp\\review.json'\n",
    "chunks = pd.read_json(archivo, lines=True, chunksize=100000)  # Leer en bloques de 100,000 filas\n",
    "\n",
    "# Guardar cada chunk en un archivo pickle\n",
    "# Esto evita que la memoria se llene al procesar el JSON por partes.\n",
    "for i, chunk in enumerate(chunks):\n",
    "    chunk.to_pickle(r'C:\\Users\\gonza\\OneDrive\\Desktop\\Proyecto Grupal Henry\\Yelp\\review_part_{i}.pkl')  # Guarda en archivos más pequeños\n",
    "    print(f'Chunk {i} guardado.')"
   ]
  },
  {
   "cell_type": "code",
   "execution_count": 5,
   "metadata": {},
   "outputs": [
    {
     "name": "stdout",
     "output_type": "stream",
     "text": [
      "                      review_id                 user_id  \\\n",
      "6900000  BLu89xFjBFjcFB11ExqmbA  N3_CVCqI9bBVdrynd2KZVw   \n",
      "6900001  0-JvMzZV1sy8mN5-b4mKng  nUbcXBO4tLHlm0SUHy9Qig   \n",
      "6900002  yiBzu4GfyABEBImLR62uAw  _pNerxa8_oa2rGSsK8sckw   \n",
      "6900003  wb3B-fwzK0JItr5spJMxLg  OIaACBkKofGy1QJw8hOYTg   \n",
      "6900004  Qr_trHV78rMtTWJgTJhwEw  eWDVAz99_h2dSef6VF0Gzw   \n",
      "\n",
      "                    business_id  stars  useful  funny  cool  \\\n",
      "6900000  jh8j-DWqgWkbRe_a2XtKFQ      5       0      0     0   \n",
      "6900001  lhiaIa2-FkK1k5k-BeMxhg      5       3      0     0   \n",
      "6900002  U1Gc3wKN5viu_e68KJVOdQ      5       3      1     2   \n",
      "6900003  _OxsSJLOrhdJq3-EewouvQ      5       0      0     0   \n",
      "6900004  Bg7D8LrsW9XbYlEhT9yekw      1       0      0     0   \n",
      "\n",
      "                                                      text                date  \n",
      "6900000  Terrific place, I've known some of the staff f... 2020-12-17 02:02:53  \n",
      "6900001  My previous dentist died from a fast moving ca... 2018-07-06 01:14:47  \n",
      "6900002  When it's 10PM on a Friday during COVID times,... 2021-01-09 17:03:54  \n",
      "6900003  Dane was outstanding and worked very hard to m... 2021-08-10 23:28:42  \n",
      "6900004  Very small was looking for the Van Gogh exhibi... 2021-08-11 00:49:25  \n"
     ]
    }
   ],
   "source": [
    "import glob\n",
    "\n",
    "# Obtener lista de archivos .pkl guardados\n",
    "archivos_pkl = glob.glob(r'C:\\Users\\gonza\\OneDrive\\Desktop\\Proyecto Grupal Henry\\Yelp\\review_part_*.pkl')\n",
    "\n",
    "# Leer y concatenar los DataFrames\n",
    "df_reviews = pd.concat([pd.read_pickle(f) for f in archivos_pkl])\n",
    "\n",
    "print(df_reviews.head())"
   ]
  },
  {
   "cell_type": "code",
   "execution_count": 6,
   "metadata": {},
   "outputs": [
    {
     "name": "stdout",
     "output_type": "stream",
     "text": [
      "text NaN 0\n",
      "stars NaN 0\n"
     ]
    }
   ],
   "source": [
    "print('text NaN', df_reviews['text'].isna().sum())\n",
    "print('stars NaN', df_reviews['stars'].isna().sum())"
   ]
  },
  {
   "cell_type": "markdown",
   "metadata": {},
   "source": [
    "El dataframe reviews de Yelp no tiene valores nulos para la columna text (con los comentarios de las reseñas) ni para la columna stars (con la calificacion) "
   ]
  },
  {
   "cell_type": "code",
   "execution_count": 7,
   "metadata": {},
   "outputs": [],
   "source": [
    "# Convertir la columna a tipo datetime\n",
    "# Vamos a asegurarnos de que la columna \"date\" esté en el formato correcto:\n",
    "df_reviews['date'] = pd.to_datetime(df_reviews['date'], errors='coerce')"
   ]
  },
  {
   "cell_type": "code",
   "execution_count": 18,
   "metadata": {},
   "outputs": [
    {
     "name": "stdout",
     "output_type": "stream",
     "text": [
      "<class 'pandas.core.frame.DataFrame'>\n",
      "RangeIndex: 90280 entries, 6900000 to 6990279\n",
      "Data columns (total 9 columns):\n",
      " #   Column       Non-Null Count  Dtype         \n",
      "---  ------       --------------  -----         \n",
      " 0   review_id    90280 non-null  object        \n",
      " 1   user_id      90280 non-null  object        \n",
      " 2   business_id  90280 non-null  object        \n",
      " 3   stars        90280 non-null  int64         \n",
      " 4   useful       90280 non-null  int64         \n",
      " 5   funny        90280 non-null  int64         \n",
      " 6   cool         90280 non-null  int64         \n",
      " 7   text         90280 non-null  object        \n",
      " 8   date         90280 non-null  datetime64[ns]\n",
      "dtypes: datetime64[ns](1), int64(4), object(4)\n",
      "memory usage: 6.2+ MB\n"
     ]
    }
   ],
   "source": [
    "df_reviews.info()"
   ]
  },
  {
   "cell_type": "code",
   "execution_count": 12,
   "metadata": {},
   "outputs": [
    {
     "data": {
      "text/html": [
       "<div>\n",
       "<style scoped>\n",
       "    .dataframe tbody tr th:only-of-type {\n",
       "        vertical-align: middle;\n",
       "    }\n",
       "\n",
       "    .dataframe tbody tr th {\n",
       "        vertical-align: top;\n",
       "    }\n",
       "\n",
       "    .dataframe thead th {\n",
       "        text-align: right;\n",
       "    }\n",
       "</style>\n",
       "<table border=\"1\" class=\"dataframe\">\n",
       "  <thead>\n",
       "    <tr style=\"text-align: right;\">\n",
       "      <th></th>\n",
       "      <th>review_id</th>\n",
       "      <th>user_id</th>\n",
       "      <th>business_id</th>\n",
       "      <th>stars</th>\n",
       "      <th>useful</th>\n",
       "      <th>funny</th>\n",
       "      <th>cool</th>\n",
       "      <th>text</th>\n",
       "      <th>date</th>\n",
       "    </tr>\n",
       "  </thead>\n",
       "  <tbody>\n",
       "    <tr>\n",
       "      <th>6900000</th>\n",
       "      <td>BLu89xFjBFjcFB11ExqmbA</td>\n",
       "      <td>N3_CVCqI9bBVdrynd2KZVw</td>\n",
       "      <td>jh8j-DWqgWkbRe_a2XtKFQ</td>\n",
       "      <td>5</td>\n",
       "      <td>0</td>\n",
       "      <td>0</td>\n",
       "      <td>0</td>\n",
       "      <td>Terrific place, I've known some of the staff f...</td>\n",
       "      <td>2020-12-17 02:02:53</td>\n",
       "    </tr>\n",
       "    <tr>\n",
       "      <th>6900001</th>\n",
       "      <td>0-JvMzZV1sy8mN5-b4mKng</td>\n",
       "      <td>nUbcXBO4tLHlm0SUHy9Qig</td>\n",
       "      <td>lhiaIa2-FkK1k5k-BeMxhg</td>\n",
       "      <td>5</td>\n",
       "      <td>3</td>\n",
       "      <td>0</td>\n",
       "      <td>0</td>\n",
       "      <td>My previous dentist died from a fast moving ca...</td>\n",
       "      <td>2018-07-06 01:14:47</td>\n",
       "    </tr>\n",
       "    <tr>\n",
       "      <th>6900002</th>\n",
       "      <td>yiBzu4GfyABEBImLR62uAw</td>\n",
       "      <td>_pNerxa8_oa2rGSsK8sckw</td>\n",
       "      <td>U1Gc3wKN5viu_e68KJVOdQ</td>\n",
       "      <td>5</td>\n",
       "      <td>3</td>\n",
       "      <td>1</td>\n",
       "      <td>2</td>\n",
       "      <td>When it's 10PM on a Friday during COVID times,...</td>\n",
       "      <td>2021-01-09 17:03:54</td>\n",
       "    </tr>\n",
       "    <tr>\n",
       "      <th>6900003</th>\n",
       "      <td>wb3B-fwzK0JItr5spJMxLg</td>\n",
       "      <td>OIaACBkKofGy1QJw8hOYTg</td>\n",
       "      <td>_OxsSJLOrhdJq3-EewouvQ</td>\n",
       "      <td>5</td>\n",
       "      <td>0</td>\n",
       "      <td>0</td>\n",
       "      <td>0</td>\n",
       "      <td>Dane was outstanding and worked very hard to m...</td>\n",
       "      <td>2021-08-10 23:28:42</td>\n",
       "    </tr>\n",
       "    <tr>\n",
       "      <th>6900004</th>\n",
       "      <td>Qr_trHV78rMtTWJgTJhwEw</td>\n",
       "      <td>eWDVAz99_h2dSef6VF0Gzw</td>\n",
       "      <td>Bg7D8LrsW9XbYlEhT9yekw</td>\n",
       "      <td>1</td>\n",
       "      <td>0</td>\n",
       "      <td>0</td>\n",
       "      <td>0</td>\n",
       "      <td>Very small was looking for the Van Gogh exhibi...</td>\n",
       "      <td>2021-08-11 00:49:25</td>\n",
       "    </tr>\n",
       "  </tbody>\n",
       "</table>\n",
       "</div>"
      ],
      "text/plain": [
       "                      review_id                 user_id  \\\n",
       "6900000  BLu89xFjBFjcFB11ExqmbA  N3_CVCqI9bBVdrynd2KZVw   \n",
       "6900001  0-JvMzZV1sy8mN5-b4mKng  nUbcXBO4tLHlm0SUHy9Qig   \n",
       "6900002  yiBzu4GfyABEBImLR62uAw  _pNerxa8_oa2rGSsK8sckw   \n",
       "6900003  wb3B-fwzK0JItr5spJMxLg  OIaACBkKofGy1QJw8hOYTg   \n",
       "6900004  Qr_trHV78rMtTWJgTJhwEw  eWDVAz99_h2dSef6VF0Gzw   \n",
       "\n",
       "                    business_id  stars  useful  funny  cool  \\\n",
       "6900000  jh8j-DWqgWkbRe_a2XtKFQ      5       0      0     0   \n",
       "6900001  lhiaIa2-FkK1k5k-BeMxhg      5       3      0     0   \n",
       "6900002  U1Gc3wKN5viu_e68KJVOdQ      5       3      1     2   \n",
       "6900003  _OxsSJLOrhdJq3-EewouvQ      5       0      0     0   \n",
       "6900004  Bg7D8LrsW9XbYlEhT9yekw      1       0      0     0   \n",
       "\n",
       "                                                      text                date  \n",
       "6900000  Terrific place, I've known some of the staff f... 2020-12-17 02:02:53  \n",
       "6900001  My previous dentist died from a fast moving ca... 2018-07-06 01:14:47  \n",
       "6900002  When it's 10PM on a Friday during COVID times,... 2021-01-09 17:03:54  \n",
       "6900003  Dane was outstanding and worked very hard to m... 2021-08-10 23:28:42  \n",
       "6900004  Very small was looking for the Van Gogh exhibi... 2021-08-11 00:49:25  "
      ]
     },
     "execution_count": 12,
     "metadata": {},
     "output_type": "execute_result"
    }
   ],
   "source": [
    "df_reviews.head()"
   ]
  },
  {
   "cell_type": "markdown",
   "metadata": {},
   "source": [
    "El dataframe tiene 6.990.280 reviews. La columna date esta en formato datetime."
   ]
  },
  {
   "cell_type": "code",
   "execution_count": 19,
   "metadata": {},
   "outputs": [],
   "source": [
    "# df_rev.to_parquet('/yelp/reviews.parquet' , engine='fastparquet')\n",
    "# El motor pyarrow maneja mejor archivos grandes y evita problemas de compresión:\n",
    "df_reviews.to_parquet(r'C:\\Users\\gonza\\OneDrive\\Desktop\\Proyecto Grupal Henry\\Yelp\\yelp_reviews.parquet', engine='pyarrow', compression='snappy')"
   ]
  },
  {
   "cell_type": "code",
   "execution_count": 20,
   "metadata": {},
   "outputs": [],
   "source": [
    "df_dup = df_reviews[df_reviews.duplicated(subset=['business_id',  'date', 'review_id', 'user_id'], keep=False)]\n",
    "df_dup = df_dup.sort_values([])"
   ]
  },
  {
   "cell_type": "code",
   "execution_count": 21,
   "metadata": {},
   "outputs": [
    {
     "name": "stdout",
     "output_type": "stream",
     "text": [
      "Empty DataFrame\n",
      "Columns: [review_id, user_id, business_id, stars, useful, funny, cool, text, date]\n",
      "Index: []\n"
     ]
    }
   ],
   "source": [
    "print(df_dup)"
   ]
  },
  {
   "cell_type": "markdown",
   "metadata": {},
   "source": [
    "No hay filas duplicadas"
   ]
  },
  {
   "cell_type": "code",
   "execution_count": 22,
   "metadata": {},
   "outputs": [
    {
     "name": "stdout",
     "output_type": "stream",
     "text": [
      "<class 'pandas.core.frame.DataFrame'>\n",
      "RangeIndex: 90280 entries, 6900000 to 6990279\n",
      "Data columns (total 9 columns):\n",
      " #   Column       Non-Null Count  Dtype         \n",
      "---  ------       --------------  -----         \n",
      " 0   review_id    90280 non-null  object        \n",
      " 1   user_id      90280 non-null  object        \n",
      " 2   business_id  90280 non-null  object        \n",
      " 3   stars        90280 non-null  int64         \n",
      " 4   useful       90280 non-null  int64         \n",
      " 5   funny        90280 non-null  int64         \n",
      " 6   cool         90280 non-null  int64         \n",
      " 7   text         90280 non-null  object        \n",
      " 8   date         90280 non-null  datetime64[ns]\n",
      "dtypes: datetime64[ns](1), int64(4), object(4)\n",
      "memory usage: 6.2+ MB\n"
     ]
    }
   ],
   "source": [
    "df_reviews.info()"
   ]
  },
  {
   "cell_type": "code",
   "execution_count": 25,
   "metadata": {},
   "outputs": [],
   "source": [
    "# leo el archivo de las pizzerias mt_pizza_NJNY para hacer join con este\n",
    "# How to read a Parquet file into Pandas DataFrame?\n",
    "business_pizza_CANV = pd.read_parquet(r'C:\\Users\\gonza\\OneDrive\\Desktop\\Proyecto Grupal Henry\\Maps\\df_pizza_CANV_rev.parquet' , engine='fastparquet')"
   ]
  },
  {
   "cell_type": "code",
   "execution_count": 26,
   "metadata": {},
   "outputs": [
    {
     "name": "stdout",
     "output_type": "stream",
     "text": [
      "<class 'pandas.core.frame.DataFrame'>\n",
      "Index: 34905 entries, 0 to 36420\n",
      "Data columns (total 15 columns):\n",
      " #   Column          Non-Null Count  Dtype         \n",
      "---  ------          --------------  -----         \n",
      " 0   gmap_id         34905 non-null  object        \n",
      " 1   business_name   34905 non-null  object        \n",
      " 2   address         34891 non-null  object        \n",
      " 3   city            34905 non-null  object        \n",
      " 4   state           34905 non-null  object        \n",
      " 5   zip_code        34905 non-null  object        \n",
      " 6   latitude        34905 non-null  float64       \n",
      " 7   longitude       34905 non-null  float64       \n",
      " 8   avg_rating      34905 non-null  float64       \n",
      " 9   num_of_reviews  34905 non-null  int64         \n",
      " 10  user_id         34905 non-null  float64       \n",
      " 11  user_name       34905 non-null  object        \n",
      " 12  rating          34905 non-null  float64       \n",
      " 13  text            21393 non-null  object        \n",
      " 14  date            34905 non-null  datetime64[ns]\n",
      "dtypes: datetime64[ns](1), float64(5), int64(1), object(8)\n",
      "memory usage: 4.3+ MB\n"
     ]
    }
   ],
   "source": [
    "business_pizza_CANV.info()"
   ]
  },
  {
   "cell_type": "code",
   "execution_count": 30,
   "metadata": {},
   "outputs": [
    {
     "name": "stdout",
     "output_type": "stream",
     "text": [
      "Index(['gmap_id', 'business_name', 'address', 'city', 'state', 'zip_code',\n",
      "       'latitude', 'longitude', 'avg_rating', 'num_of_reviews', 'user_id',\n",
      "       'user_name', 'rating', 'text', 'date'],\n",
      "      dtype='object')\n",
      "Index(['review_id', 'user_id', 'business_id', 'stars', 'useful', 'funny',\n",
      "       'cool', 'text', 'date'],\n",
      "      dtype='object')\n"
     ]
    }
   ],
   "source": [
    "print(business_pizza_CANV.columns)\n",
    "print(df_reviews.columns)\n"
   ]
  },
  {
   "cell_type": "code",
   "execution_count": 32,
   "metadata": {},
   "outputs": [],
   "source": [
    "business_pizza_CANV = pd.merge(business_pizza_CANV, df_reviews, how='left', left_on='business_name', right_on='business_id') # tengo que hacer left join\n",
    "\n"
   ]
  },
  {
   "cell_type": "code",
   "execution_count": 33,
   "metadata": {},
   "outputs": [
    {
     "name": "stdout",
     "output_type": "stream",
     "text": [
      "<class 'pandas.core.frame.DataFrame'>\n",
      "RangeIndex: 34905 entries, 0 to 34904\n",
      "Data columns (total 24 columns):\n",
      " #   Column          Non-Null Count  Dtype         \n",
      "---  ------          --------------  -----         \n",
      " 0   gmap_id         34905 non-null  object        \n",
      " 1   business_name   34905 non-null  object        \n",
      " 2   address         34891 non-null  object        \n",
      " 3   city            34905 non-null  object        \n",
      " 4   state           34905 non-null  object        \n",
      " 5   zip_code        34905 non-null  object        \n",
      " 6   latitude        34905 non-null  float64       \n",
      " 7   longitude       34905 non-null  float64       \n",
      " 8   avg_rating      34905 non-null  float64       \n",
      " 9   num_of_reviews  34905 non-null  int64         \n",
      " 10  user_id_x       34905 non-null  float64       \n",
      " 11  user_name       34905 non-null  object        \n",
      " 12  rating          34905 non-null  float64       \n",
      " 13  text_x          21393 non-null  object        \n",
      " 14  date_x          34905 non-null  datetime64[ns]\n",
      " 15  review_id       0 non-null      object        \n",
      " 16  user_id_y       0 non-null      object        \n",
      " 17  business_id     0 non-null      object        \n",
      " 18  stars           0 non-null      float64       \n",
      " 19  useful          0 non-null      float64       \n",
      " 20  funny           0 non-null      float64       \n",
      " 21  cool            0 non-null      float64       \n",
      " 22  text_y          0 non-null      object        \n",
      " 23  date_y          0 non-null      datetime64[ns]\n",
      "dtypes: datetime64[ns](2), float64(9), int64(1), object(12)\n",
      "memory usage: 6.4+ MB\n"
     ]
    }
   ],
   "source": [
    "business_pizza_CANV.info()"
   ]
  },
  {
   "cell_type": "markdown",
   "metadata": {},
   "source": [
    "Hay 34905 reseñas de Yelp para las pizzerias del estado"
   ]
  },
  {
   "cell_type": "code",
   "execution_count": 34,
   "metadata": {},
   "outputs": [],
   "source": [
    "# Modifico los nombres de las columnas que estan duplicados\n",
    "business_pizza_CANV.rename(columns={'stars_x': 'stars_business', 'stars_y': 'stars_by_user'}, inplace=True)"
   ]
  },
  {
   "cell_type": "code",
   "execution_count": 35,
   "metadata": {},
   "outputs": [
    {
     "data": {
      "text/html": [
       "<div>\n",
       "<style scoped>\n",
       "    .dataframe tbody tr th:only-of-type {\n",
       "        vertical-align: middle;\n",
       "    }\n",
       "\n",
       "    .dataframe tbody tr th {\n",
       "        vertical-align: top;\n",
       "    }\n",
       "\n",
       "    .dataframe thead th {\n",
       "        text-align: right;\n",
       "    }\n",
       "</style>\n",
       "<table border=\"1\" class=\"dataframe\">\n",
       "  <thead>\n",
       "    <tr style=\"text-align: right;\">\n",
       "      <th></th>\n",
       "      <th>gmap_id</th>\n",
       "      <th>business_name</th>\n",
       "      <th>address</th>\n",
       "      <th>city</th>\n",
       "      <th>state</th>\n",
       "      <th>zip_code</th>\n",
       "      <th>latitude</th>\n",
       "      <th>longitude</th>\n",
       "      <th>avg_rating</th>\n",
       "      <th>num_of_reviews</th>\n",
       "      <th>...</th>\n",
       "      <th>date_x</th>\n",
       "      <th>review_id</th>\n",
       "      <th>user_id_y</th>\n",
       "      <th>business_id</th>\n",
       "      <th>stars</th>\n",
       "      <th>useful</th>\n",
       "      <th>funny</th>\n",
       "      <th>cool</th>\n",
       "      <th>text_y</th>\n",
       "      <th>date_y</th>\n",
       "    </tr>\n",
       "  </thead>\n",
       "  <tbody>\n",
       "    <tr>\n",
       "      <th>0</th>\n",
       "      <td>0x80c2c7726b53b8e5:0xad288d11654f5e48</td>\n",
       "      <td>PIZZA ROW RECORDS</td>\n",
       "      <td>433 E 7th St</td>\n",
       "      <td>Los Angeles</td>\n",
       "      <td>CA</td>\n",
       "      <td>90014</td>\n",
       "      <td>34.041406</td>\n",
       "      <td>-118.247477</td>\n",
       "      <td>4.3</td>\n",
       "      <td>34</td>\n",
       "      <td>...</td>\n",
       "      <td>2019-08-10 16:42:31.213</td>\n",
       "      <td>NaN</td>\n",
       "      <td>NaN</td>\n",
       "      <td>NaN</td>\n",
       "      <td>NaN</td>\n",
       "      <td>NaN</td>\n",
       "      <td>NaN</td>\n",
       "      <td>NaN</td>\n",
       "      <td>NaN</td>\n",
       "      <td>NaT</td>\n",
       "    </tr>\n",
       "    <tr>\n",
       "      <th>1</th>\n",
       "      <td>0x80c2c7726b53b8e5:0xad288d11654f5e48</td>\n",
       "      <td>PIZZA ROW RECORDS</td>\n",
       "      <td>433 E 7th St</td>\n",
       "      <td>Los Angeles</td>\n",
       "      <td>CA</td>\n",
       "      <td>90014</td>\n",
       "      <td>34.041406</td>\n",
       "      <td>-118.247477</td>\n",
       "      <td>4.3</td>\n",
       "      <td>34</td>\n",
       "      <td>...</td>\n",
       "      <td>2021-08-22 21:24:59.592</td>\n",
       "      <td>NaN</td>\n",
       "      <td>NaN</td>\n",
       "      <td>NaN</td>\n",
       "      <td>NaN</td>\n",
       "      <td>NaN</td>\n",
       "      <td>NaN</td>\n",
       "      <td>NaN</td>\n",
       "      <td>NaN</td>\n",
       "      <td>NaT</td>\n",
       "    </tr>\n",
       "    <tr>\n",
       "      <th>2</th>\n",
       "      <td>0x80c2c7726b53b8e5:0xad288d11654f5e48</td>\n",
       "      <td>PIZZA ROW RECORDS</td>\n",
       "      <td>433 E 7th St</td>\n",
       "      <td>Los Angeles</td>\n",
       "      <td>CA</td>\n",
       "      <td>90014</td>\n",
       "      <td>34.041406</td>\n",
       "      <td>-118.247477</td>\n",
       "      <td>4.3</td>\n",
       "      <td>34</td>\n",
       "      <td>...</td>\n",
       "      <td>2019-09-13 07:05:09.213</td>\n",
       "      <td>NaN</td>\n",
       "      <td>NaN</td>\n",
       "      <td>NaN</td>\n",
       "      <td>NaN</td>\n",
       "      <td>NaN</td>\n",
       "      <td>NaN</td>\n",
       "      <td>NaN</td>\n",
       "      <td>NaN</td>\n",
       "      <td>NaT</td>\n",
       "    </tr>\n",
       "    <tr>\n",
       "      <th>3</th>\n",
       "      <td>0x80c2c7726b53b8e5:0xad288d11654f5e48</td>\n",
       "      <td>PIZZA ROW RECORDS</td>\n",
       "      <td>433 E 7th St</td>\n",
       "      <td>Los Angeles</td>\n",
       "      <td>CA</td>\n",
       "      <td>90014</td>\n",
       "      <td>34.041406</td>\n",
       "      <td>-118.247477</td>\n",
       "      <td>4.3</td>\n",
       "      <td>34</td>\n",
       "      <td>...</td>\n",
       "      <td>2019-11-28 07:44:09.374</td>\n",
       "      <td>NaN</td>\n",
       "      <td>NaN</td>\n",
       "      <td>NaN</td>\n",
       "      <td>NaN</td>\n",
       "      <td>NaN</td>\n",
       "      <td>NaN</td>\n",
       "      <td>NaN</td>\n",
       "      <td>NaN</td>\n",
       "      <td>NaT</td>\n",
       "    </tr>\n",
       "    <tr>\n",
       "      <th>4</th>\n",
       "      <td>0x80c2c7726b53b8e5:0xad288d11654f5e48</td>\n",
       "      <td>PIZZA ROW RECORDS</td>\n",
       "      <td>433 E 7th St</td>\n",
       "      <td>Los Angeles</td>\n",
       "      <td>CA</td>\n",
       "      <td>90014</td>\n",
       "      <td>34.041406</td>\n",
       "      <td>-118.247477</td>\n",
       "      <td>4.3</td>\n",
       "      <td>34</td>\n",
       "      <td>...</td>\n",
       "      <td>2019-08-25 14:23:22.205</td>\n",
       "      <td>NaN</td>\n",
       "      <td>NaN</td>\n",
       "      <td>NaN</td>\n",
       "      <td>NaN</td>\n",
       "      <td>NaN</td>\n",
       "      <td>NaN</td>\n",
       "      <td>NaN</td>\n",
       "      <td>NaN</td>\n",
       "      <td>NaT</td>\n",
       "    </tr>\n",
       "  </tbody>\n",
       "</table>\n",
       "<p>5 rows × 24 columns</p>\n",
       "</div>"
      ],
      "text/plain": [
       "                                 gmap_id      business_name       address  \\\n",
       "0  0x80c2c7726b53b8e5:0xad288d11654f5e48  PIZZA ROW RECORDS  433 E 7th St   \n",
       "1  0x80c2c7726b53b8e5:0xad288d11654f5e48  PIZZA ROW RECORDS  433 E 7th St   \n",
       "2  0x80c2c7726b53b8e5:0xad288d11654f5e48  PIZZA ROW RECORDS  433 E 7th St   \n",
       "3  0x80c2c7726b53b8e5:0xad288d11654f5e48  PIZZA ROW RECORDS  433 E 7th St   \n",
       "4  0x80c2c7726b53b8e5:0xad288d11654f5e48  PIZZA ROW RECORDS  433 E 7th St   \n",
       "\n",
       "          city state zip_code   latitude   longitude  avg_rating  \\\n",
       "0  Los Angeles    CA    90014  34.041406 -118.247477         4.3   \n",
       "1  Los Angeles    CA    90014  34.041406 -118.247477         4.3   \n",
       "2  Los Angeles    CA    90014  34.041406 -118.247477         4.3   \n",
       "3  Los Angeles    CA    90014  34.041406 -118.247477         4.3   \n",
       "4  Los Angeles    CA    90014  34.041406 -118.247477         4.3   \n",
       "\n",
       "   num_of_reviews  ...                  date_x review_id  user_id_y  \\\n",
       "0              34  ... 2019-08-10 16:42:31.213       NaN        NaN   \n",
       "1              34  ... 2021-08-22 21:24:59.592       NaN        NaN   \n",
       "2              34  ... 2019-09-13 07:05:09.213       NaN        NaN   \n",
       "3              34  ... 2019-11-28 07:44:09.374       NaN        NaN   \n",
       "4              34  ... 2019-08-25 14:23:22.205       NaN        NaN   \n",
       "\n",
       "  business_id stars useful funny cool  text_y  date_y  \n",
       "0         NaN   NaN    NaN   NaN  NaN     NaN     NaT  \n",
       "1         NaN   NaN    NaN   NaN  NaN     NaN     NaT  \n",
       "2         NaN   NaN    NaN   NaN  NaN     NaN     NaT  \n",
       "3         NaN   NaN    NaN   NaN  NaN     NaN     NaT  \n",
       "4         NaN   NaN    NaN   NaN  NaN     NaN     NaT  \n",
       "\n",
       "[5 rows x 24 columns]"
      ]
     },
     "execution_count": 35,
     "metadata": {},
     "output_type": "execute_result"
    }
   ],
   "source": [
    "business_pizza_CANV.head()"
   ]
  },
  {
   "cell_type": "code",
   "execution_count": 36,
   "metadata": {},
   "outputs": [
    {
     "name": "stdout",
     "output_type": "stream",
     "text": [
      "                                 gmap_id      business_name       address  \\\n",
      "0  0x80c2c7726b53b8e5:0xad288d11654f5e48  PIZZA ROW RECORDS  433 E 7th St   \n",
      "\n",
      "          city state zip_code   latitude   longitude  avg_rating  \\\n",
      "0  Los Angeles    CA    90014  34.041406 -118.247477         4.3   \n",
      "\n",
      "   num_of_reviews  ...                  date_x review_id  user_id_y  \\\n",
      "0              34  ... 2019-08-10 16:42:31.213       NaN        NaN   \n",
      "\n",
      "  business_id stars useful funny cool  text_y  date_y  \n",
      "0         NaN   NaN    NaN   NaN  NaN     NaN     NaT  \n",
      "\n",
      "[1 rows x 24 columns]\n"
     ]
    }
   ],
   "source": [
    "print(business_pizza_CANV.iloc[[0]])"
   ]
  },
  {
   "cell_type": "code",
   "execution_count": 37,
   "metadata": {},
   "outputs": [],
   "source": [
    "# guardo df_pizza_CANV_rev\n",
    "business_pizza_CANV.to_parquet(r'C:\\Users\\gonza\\OneDrive\\Desktop\\Proyecto Grupal Henry\\Yelp\\business_pizza_CANV_rev.parquet' , engine='fastparquet')"
   ]
  }
 ],
 "metadata": {
  "kernelspec": {
   "display_name": "Python 3",
   "language": "python",
   "name": "python3"
  },
  "language_info": {
   "codemirror_mode": {
    "name": "ipython",
    "version": 3
   },
   "file_extension": ".py",
   "mimetype": "text/x-python",
   "name": "python",
   "nbconvert_exporter": "python",
   "pygments_lexer": "ipython3",
   "version": "3.10.11"
  }
 },
 "nbformat": 4,
 "nbformat_minor": 2
}
