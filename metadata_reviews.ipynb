{
 "cells": [
  {
   "cell_type": "markdown",
   "metadata": {},
   "source": [
    "### DATA PT14-extra - Proyecto final - Grupo 3\n",
    "#### Control de calidad de los datos del archivo Google Maps review de los estados de California (CA), Nevada (NV) y Georgia (GA)"
   ]
  },
  {
   "cell_type": "code",
   "execution_count": 2,
   "metadata": {},
   "outputs": [],
   "source": [
    "import glob\n",
    "import matplotlib.pyplot as plt\n",
    "import numpy as np\n",
    "import os\n",
    "import pandas as pd\n",
    "import seaborn as sns\n",
    "import warnings\n",
    "warnings.filterwarnings(\"ignore\")"
   ]
  },
  {
   "cell_type": "code",
   "execution_count": 3,
   "metadata": {},
   "outputs": [],
   "source": [
    "# Obtener la lista de archivos JSON en carpeta\n",
    "archivos_json = glob.glob(os.path.join(\"maps/lugar\", \"*.json\"))"
   ]
  },
  {
   "cell_type": "code",
   "execution_count": 4,
   "metadata": {},
   "outputs": [],
   "source": [
    "# Se guardará archivos JSON en formato pickle (binario) el cual es más rápido para futuras consultas\n",
    "for archivo in archivos_json:\n",
    "    df = pd.read_json(archivo, lines=True)\n",
    "    df.to_pickle(archivo.replace(\".json\", \".pkl\"))  # Guardar como .pkl"
   ]
  },
  {
   "cell_type": "code",
   "execution_count": 6,
   "metadata": {},
   "outputs": [
    {
     "data": {
      "text/html": [
       "<div>\n",
       "<style scoped>\n",
       "    .dataframe tbody tr th:only-of-type {\n",
       "        vertical-align: middle;\n",
       "    }\n",
       "\n",
       "    .dataframe tbody tr th {\n",
       "        vertical-align: top;\n",
       "    }\n",
       "\n",
       "    .dataframe thead th {\n",
       "        text-align: right;\n",
       "    }\n",
       "</style>\n",
       "<table border=\"1\" class=\"dataframe\">\n",
       "  <thead>\n",
       "    <tr style=\"text-align: right;\">\n",
       "      <th></th>\n",
       "      <th>user_id</th>\n",
       "      <th>name</th>\n",
       "      <th>time</th>\n",
       "      <th>rating</th>\n",
       "      <th>text</th>\n",
       "      <th>pics</th>\n",
       "      <th>resp</th>\n",
       "      <th>gmap_id</th>\n",
       "    </tr>\n",
       "  </thead>\n",
       "  <tbody>\n",
       "    <tr>\n",
       "      <th>0</th>\n",
       "      <td>1.089912e+20</td>\n",
       "      <td>Song Ro</td>\n",
       "      <td>1609909927056</td>\n",
       "      <td>5</td>\n",
       "      <td>Love there korean rice cake.</td>\n",
       "      <td>None</td>\n",
       "      <td>None</td>\n",
       "      <td>0x80c2c778e3b73d33:0xbdc58662a4a97d49</td>\n",
       "    </tr>\n",
       "    <tr>\n",
       "      <th>1</th>\n",
       "      <td>1.112903e+20</td>\n",
       "      <td>Rafa Robles</td>\n",
       "      <td>1612849648663</td>\n",
       "      <td>5</td>\n",
       "      <td>Good very good</td>\n",
       "      <td>None</td>\n",
       "      <td>None</td>\n",
       "      <td>0x80c2c778e3b73d33:0xbdc58662a4a97d49</td>\n",
       "    </tr>\n",
       "    <tr>\n",
       "      <th>2</th>\n",
       "      <td>1.126404e+20</td>\n",
       "      <td>David Han</td>\n",
       "      <td>1583643882296</td>\n",
       "      <td>4</td>\n",
       "      <td>They make Korean traditional food very properly.</td>\n",
       "      <td>None</td>\n",
       "      <td>None</td>\n",
       "      <td>0x80c2c778e3b73d33:0xbdc58662a4a97d49</td>\n",
       "    </tr>\n",
       "    <tr>\n",
       "      <th>3</th>\n",
       "      <td>1.174403e+20</td>\n",
       "      <td>Anthony Kim</td>\n",
       "      <td>1551938216355</td>\n",
       "      <td>5</td>\n",
       "      <td>Short ribs are very delicious.</td>\n",
       "      <td>None</td>\n",
       "      <td>None</td>\n",
       "      <td>0x80c2c778e3b73d33:0xbdc58662a4a97d49</td>\n",
       "    </tr>\n",
       "    <tr>\n",
       "      <th>4</th>\n",
       "      <td>1.005808e+20</td>\n",
       "      <td>Mario Marzouk</td>\n",
       "      <td>1494910901933</td>\n",
       "      <td>5</td>\n",
       "      <td>Great food and prices the portions are large</td>\n",
       "      <td>None</td>\n",
       "      <td>None</td>\n",
       "      <td>0x80c2c778e3b73d33:0xbdc58662a4a97d49</td>\n",
       "    </tr>\n",
       "  </tbody>\n",
       "</table>\n",
       "</div>"
      ],
      "text/plain": [
       "        user_id           name           time  rating  \\\n",
       "0  1.089912e+20        Song Ro  1609909927056       5   \n",
       "1  1.112903e+20    Rafa Robles  1612849648663       5   \n",
       "2  1.126404e+20      David Han  1583643882296       4   \n",
       "3  1.174403e+20    Anthony Kim  1551938216355       5   \n",
       "4  1.005808e+20  Mario Marzouk  1494910901933       5   \n",
       "\n",
       "                                               text  pics  resp  \\\n",
       "0                      Love there korean rice cake.  None  None   \n",
       "1                                    Good very good  None  None   \n",
       "2  They make Korean traditional food very properly.  None  None   \n",
       "3                    Short ribs are very delicious.  None  None   \n",
       "4      Great food and prices the portions are large  None  None   \n",
       "\n",
       "                                 gmap_id  \n",
       "0  0x80c2c778e3b73d33:0xbdc58662a4a97d49  \n",
       "1  0x80c2c778e3b73d33:0xbdc58662a4a97d49  \n",
       "2  0x80c2c778e3b73d33:0xbdc58662a4a97d49  \n",
       "3  0x80c2c778e3b73d33:0xbdc58662a4a97d49  \n",
       "4  0x80c2c778e3b73d33:0xbdc58662a4a97d49  "
      ]
     },
     "execution_count": 6,
     "metadata": {},
     "output_type": "execute_result"
    }
   ],
   "source": [
    "# Carga los archivos Pickle generados y los combina en un solo DataFrame.\n",
    "df_list = [pd.read_pickle(archivo.replace(\".json\", \".pkl\")) for archivo in archivos_json] # convierte el nombre de cada archivo de .json a .pkl para cargarlo correctamente.\n",
    "df_rev = pd.concat(df_list, ignore_index=True)\n",
    "\n",
    "df_rev.head()"
   ]
  },
  {
   "cell_type": "code",
   "execution_count": 7,
   "metadata": {},
   "outputs": [
    {
     "name": "stdout",
     "output_type": "stream",
     "text": [
      "<class 'pandas.core.frame.DataFrame'>\n",
      "RangeIndex: 300000 entries, 0 to 299999\n",
      "Data columns (total 8 columns):\n",
      " #   Column   Non-Null Count   Dtype  \n",
      "---  ------   --------------   -----  \n",
      " 0   user_id  300000 non-null  float64\n",
      " 1   name     300000 non-null  object \n",
      " 2   time     300000 non-null  int64  \n",
      " 3   rating   300000 non-null  int64  \n",
      " 4   text     182220 non-null  object \n",
      " 5   pics     10186 non-null   object \n",
      " 6   resp     40625 non-null   object \n",
      " 7   gmap_id  300000 non-null  object \n",
      "dtypes: float64(1), int64(2), object(5)\n",
      "memory usage: 18.3+ MB\n"
     ]
    }
   ],
   "source": [
    "df_rev.info()"
   ]
  },
  {
   "cell_type": "code",
   "execution_count": 8,
   "metadata": {},
   "outputs": [],
   "source": [
    "# Eliminamos, por ahora, pics y resp. no usaremos esas columnas\n",
    "df_rev = df_rev.drop(columns=['pics', 'resp'])"
   ]
  },
  {
   "cell_type": "code",
   "execution_count": 9,
   "metadata": {},
   "outputs": [
    {
     "name": "stdout",
     "output_type": "stream",
     "text": [
      "             user_id                 name           time  rating  \\\n",
      "13055   1.000011e+20            Dan Serns  1630954898274       5   \n",
      "26998   1.000011e+20            Dan Serns  1630954898274       5   \n",
      "765     1.000028e+20        dylan gunawan  1431527018712       5   \n",
      "14708   1.000028e+20        dylan gunawan  1431527018712       5   \n",
      "6087    1.000040e+20  Adrien bliťz-weiner  1520471265834       5   \n",
      "...              ...                  ...            ...     ...   \n",
      "15261   1.184430e+20         Deborah Katz  1520869457147       4   \n",
      "3704    1.184440e+20         Stella López  1624940588056       5   \n",
      "17647   1.184440e+20         Stella López  1624940588056       5   \n",
      "150325  1.184459e+20        Menito Garcia  1599873059501       5   \n",
      "151214  1.184459e+20        Menito Garcia  1599873059501       5   \n",
      "\n",
      "                                                     text  \\\n",
      "13055          Great people telling everyone about Jesus!   \n",
      "26998          Great people telling everyone about Jesus!   \n",
      "765                                                  None   \n",
      "14708                                                None   \n",
      "6087    Robert and Rafeala , Teresa are excellent inst...   \n",
      "...                                                   ...   \n",
      "15261                                                None   \n",
      "3704                                                 None   \n",
      "17647                                                None   \n",
      "150325  (Translated by Google) Delicious ice cream and...   \n",
      "151214  (Translated by Google) Delicious ice cream and...   \n",
      "\n",
      "                                      gmap_id  \n",
      "13055   0x80945c4453bdb57d:0xf0f92b97637f0429  \n",
      "26998   0x80945c4453bdb57d:0xf0f92b97637f0429  \n",
      "765     0x80dd282a8a8f4813:0x56a86ba9f9b3ed53  \n",
      "14708   0x80dd282a8a8f4813:0x56a86ba9f9b3ed53  \n",
      "6087    0x80945f9b591b212f:0xfe114ad18ad1e774  \n",
      "...                                       ...  \n",
      "15261   0x80dbf0ccfffd09c7:0xd70882c34b673ecc  \n",
      "3704    0x80c28fd41a715c79:0xc73a68700a345afc  \n",
      "17647   0x80c28fd41a715c79:0xc73a68700a345afc  \n",
      "150325  0x80c8c1186114520b:0x181d6e75c4cd85ed  \n",
      "151214  0x80c8c1186114520b:0x181d6e75c4cd85ed  \n",
      "\n",
      "[36759 rows x 6 columns]\n"
     ]
    }
   ],
   "source": [
    "# # reviso si hay reviews duplicadas\n",
    "df_dup = df_rev[df_rev.duplicated(subset=['user_id', 'gmap_id', 'time'], keep=False)]\n",
    "df_dup = df_dup.sort_values(['user_id', 'gmap_id', 'time'])\n",
    "\n",
    "print(df_dup)"
   ]
  },
  {
   "cell_type": "markdown",
   "metadata": {},
   "source": [
    "Hay 36759 reviews duplicadas por las columnas 'user_id', 'gmap_id', 'time' para el estado de NJ. Las elimino"
   ]
  },
  {
   "cell_type": "code",
   "execution_count": 10,
   "metadata": {},
   "outputs": [],
   "source": [
    "# eliminar los duplicados manteniendo la primera instancia\n",
    "df_rev_sindup = df_rev.drop_duplicates(subset=['user_id', 'gmap_id', 'time'], keep='first')"
   ]
  },
  {
   "cell_type": "code",
   "execution_count": 11,
   "metadata": {},
   "outputs": [],
   "source": [
    "# rename column name to user_name\n",
    "df_rev_sindup.rename(columns={'name': 'user_name'}, inplace=True)"
   ]
  },
  {
   "cell_type": "code",
   "execution_count": 12,
   "metadata": {},
   "outputs": [],
   "source": [
    "# convertir columna time en int64 a datetime\n",
    "df_rev_sindup['date'] = pd.to_datetime(df_rev_sindup['time'], unit='ms')"
   ]
  },
  {
   "cell_type": "code",
   "execution_count": 13,
   "metadata": {},
   "outputs": [
    {
     "name": "stdout",
     "output_type": "stream",
     "text": [
      "<class 'pandas.core.frame.DataFrame'>\n",
      "Index: 281360 entries, 0 to 299999\n",
      "Data columns (total 6 columns):\n",
      " #   Column     Non-Null Count   Dtype         \n",
      "---  ------     --------------   -----         \n",
      " 0   user_id    281360 non-null  float64       \n",
      " 1   user_name  281360 non-null  object        \n",
      " 2   rating     281360 non-null  int64         \n",
      " 3   text       169314 non-null  object        \n",
      " 4   gmap_id    281360 non-null  object        \n",
      " 5   date       281360 non-null  datetime64[ns]\n",
      "dtypes: datetime64[ns](1), float64(1), int64(1), object(3)\n",
      "memory usage: 15.0+ MB\n"
     ]
    }
   ],
   "source": [
    "# Eliminamos la columan time\n",
    "df_rev_sindup = df_rev_sindup.drop(columns=['time'])\n",
    "df_rev_sindup.info()"
   ]
  },
  {
   "cell_type": "code",
   "execution_count": 15,
   "metadata": {},
   "outputs": [],
   "source": [
    "# guardo df_rev_sindup\n",
    "df_rev_sindup.to_parquet(\"maps\\lugar\\df_rev_sindup.parquet\" , engine='fastparquet')"
   ]
  },
  {
   "cell_type": "code",
   "execution_count": null,
   "metadata": {},
   "outputs": [],
   "source": [
    "# leo el archivo de las pizzeriaspara hacer join con este\n",
    "df = pd.read_parquet(\"maps\\df_resto_sindup_verif_coord.parquet\" , engine='fastparquet')"
   ]
  },
  {
   "cell_type": "code",
   "execution_count": 17,
   "metadata": {},
   "outputs": [
    {
     "name": "stdout",
     "output_type": "stream",
     "text": [
      "<class 'pandas.core.frame.DataFrame'>\n",
      "Index: 7 entries, 24711 to 3496\n",
      "Data columns (total 14 columns):\n",
      " #   Column              Non-Null Count  Dtype  \n",
      "---  ------              --------------  -----  \n",
      " 0   gmap_id             7 non-null      object \n",
      " 1   business_name       7 non-null      object \n",
      " 2   address             7 non-null      object \n",
      " 3   city                7 non-null      object \n",
      " 4   state               7 non-null      object \n",
      " 5   zip_code            7 non-null      object \n",
      " 6   latitude            7 non-null      float64\n",
      " 7   longitude           7 non-null      float64\n",
      " 8   avg_rating          7 non-null      float64\n",
      " 9   num_of_reviews      7 non-null      int64  \n",
      " 10  verified_latitude   7 non-null      float64\n",
      " 11  verified_longitude  7 non-null      float64\n",
      " 12  lat_diff            7 non-null      float64\n",
      " 13  long_diff           7 non-null      float64\n",
      "dtypes: float64(7), int64(1), object(6)\n",
      "memory usage: 840.0+ bytes\n"
     ]
    }
   ],
   "source": [
    "df.info()"
   ]
  },
  {
   "cell_type": "code",
   "execution_count": 18,
   "metadata": {},
   "outputs": [
    {
     "data": {
      "text/html": [
       "<div>\n",
       "<style scoped>\n",
       "    .dataframe tbody tr th:only-of-type {\n",
       "        vertical-align: middle;\n",
       "    }\n",
       "\n",
       "    .dataframe tbody tr th {\n",
       "        vertical-align: top;\n",
       "    }\n",
       "\n",
       "    .dataframe thead th {\n",
       "        text-align: right;\n",
       "    }\n",
       "</style>\n",
       "<table border=\"1\" class=\"dataframe\">\n",
       "  <thead>\n",
       "    <tr style=\"text-align: right;\">\n",
       "      <th></th>\n",
       "      <th>business_name</th>\n",
       "    </tr>\n",
       "    <tr>\n",
       "      <th>state</th>\n",
       "      <th></th>\n",
       "    </tr>\n",
       "  </thead>\n",
       "  <tbody>\n",
       "    <tr>\n",
       "      <th>CA</th>\n",
       "      <td>5</td>\n",
       "    </tr>\n",
       "    <tr>\n",
       "      <th>GA</th>\n",
       "      <td>1</td>\n",
       "    </tr>\n",
       "    <tr>\n",
       "      <th>NV</th>\n",
       "      <td>1</td>\n",
       "    </tr>\n",
       "  </tbody>\n",
       "</table>\n",
       "</div>"
      ],
      "text/plain": [
       "       business_name\n",
       "state               \n",
       "CA                 5\n",
       "GA                 1\n",
       "NV                 1"
      ]
     },
     "execution_count": 18,
     "metadata": {},
     "output_type": "execute_result"
    }
   ],
   "source": [
    "# cuento la cantidad de pizzerias en cada estado / no puedo contar con una sola columna\n",
    "df[['state', 'business_name' ]].groupby('state').count()"
   ]
  },
  {
   "cell_type": "markdown",
   "metadata": {},
   "source": [
    "Googlemaps tiene datos de 5 pizzerias en CA, 1 en GA y 1 pizzerias en NV"
   ]
  },
  {
   "cell_type": "code",
   "execution_count": null,
   "metadata": {},
   "outputs": [
    {
     "name": "stdout",
     "output_type": "stream",
     "text": [
      "<class 'pandas.core.frame.DataFrame'>\n",
      "Index: 5 entries, 24711 to 9310\n",
      "Data columns (total 14 columns):\n",
      " #   Column              Non-Null Count  Dtype  \n",
      "---  ------              --------------  -----  \n",
      " 0   gmap_id             5 non-null      object \n",
      " 1   business_name       5 non-null      object \n",
      " 2   address             5 non-null      object \n",
      " 3   city                5 non-null      object \n",
      " 4   state               5 non-null      object \n",
      " 5   zip_code            5 non-null      object \n",
      " 6   latitude            5 non-null      float64\n",
      " 7   longitude           5 non-null      float64\n",
      " 8   avg_rating          5 non-null      float64\n",
      " 9   num_of_reviews      5 non-null      int64  \n",
      " 10  verified_latitude   5 non-null      float64\n",
      " 11  verified_longitude  5 non-null      float64\n",
      " 12  lat_diff            5 non-null      float64\n",
      " 13  long_diff           5 non-null      float64\n",
      "dtypes: float64(7), int64(1), object(6)\n",
      "memory usage: 600.0+ bytes\n"
     ]
    }
   ],
   "source": [
    "# separo las pizzerias. Luego hago left join con las reviews y vuelvo a unir los dataframe\n",
    "df_CA = df[df['state'] == 'CA']\n",
    "df_CA.info()"
   ]
  },
  {
   "cell_type": "code",
   "execution_count": 20,
   "metadata": {},
   "outputs": [
    {
     "name": "stdout",
     "output_type": "stream",
     "text": [
      "<class 'pandas.core.frame.DataFrame'>\n",
      "Index: 1 entries, 3496 to 3496\n",
      "Data columns (total 14 columns):\n",
      " #   Column              Non-Null Count  Dtype  \n",
      "---  ------              --------------  -----  \n",
      " 0   gmap_id             1 non-null      object \n",
      " 1   business_name       1 non-null      object \n",
      " 2   address             1 non-null      object \n",
      " 3   city                1 non-null      object \n",
      " 4   state               1 non-null      object \n",
      " 5   zip_code            1 non-null      object \n",
      " 6   latitude            1 non-null      float64\n",
      " 7   longitude           1 non-null      float64\n",
      " 8   avg_rating          1 non-null      float64\n",
      " 9   num_of_reviews      1 non-null      int64  \n",
      " 10  verified_latitude   1 non-null      float64\n",
      " 11  verified_longitude  1 non-null      float64\n",
      " 12  lat_diff            1 non-null      float64\n",
      " 13  long_diff           1 non-null      float64\n",
      "dtypes: float64(7), int64(1), object(6)\n",
      "memory usage: 120.0+ bytes\n"
     ]
    }
   ],
   "source": [
    "df_GA = df[df['state'] == 'GA']\n",
    "df_GA.info()"
   ]
  },
  {
   "cell_type": "code",
   "execution_count": 21,
   "metadata": {},
   "outputs": [
    {
     "name": "stdout",
     "output_type": "stream",
     "text": [
      "<class 'pandas.core.frame.DataFrame'>\n",
      "Index: 1 entries, 15388 to 15388\n",
      "Data columns (total 14 columns):\n",
      " #   Column              Non-Null Count  Dtype  \n",
      "---  ------              --------------  -----  \n",
      " 0   gmap_id             1 non-null      object \n",
      " 1   business_name       1 non-null      object \n",
      " 2   address             1 non-null      object \n",
      " 3   city                1 non-null      object \n",
      " 4   state               1 non-null      object \n",
      " 5   zip_code            1 non-null      object \n",
      " 6   latitude            1 non-null      float64\n",
      " 7   longitude           1 non-null      float64\n",
      " 8   avg_rating          1 non-null      float64\n",
      " 9   num_of_reviews      1 non-null      int64  \n",
      " 10  verified_latitude   1 non-null      float64\n",
      " 11  verified_longitude  1 non-null      float64\n",
      " 12  lat_diff            1 non-null      float64\n",
      " 13  long_diff           1 non-null      float64\n",
      "dtypes: float64(7), int64(1), object(6)\n",
      "memory usage: 120.0+ bytes\n"
     ]
    }
   ],
   "source": [
    "df_NV = df[df['state'] == 'NV']\n",
    "df_NV.info()"
   ]
  },
  {
   "cell_type": "markdown",
   "metadata": {},
   "source": [
    "Uno el dataframe de datos de pizzerias en un left join con el de los datos de reviews para obtener todas las reviews de pizzerias y agregarle el nombre del local. Mas adelante hare los mismo para los locales. Y luego unire los dos dataframes"
   ]
  },
  {
   "cell_type": "code",
   "execution_count": 34,
   "metadata": {},
   "outputs": [],
   "source": [
    "df_unido = df.merge(df_CA, how='left', on='gmap_id', suffixes=('', '_CA')) \\\n",
    "             .merge(df_NV, how='left', on='gmap_id', suffixes=('', '_NV')) \\\n",
    "             .merge(df_GA, how='left', on='gmap_id', suffixes=('', '_GA'))\n"
   ]
  },
  {
   "cell_type": "code",
   "execution_count": 45,
   "metadata": {},
   "outputs": [
    {
     "name": "stdout",
     "output_type": "stream",
     "text": [
      "<class 'pandas.core.frame.DataFrame'>\n",
      "RangeIndex: 7 entries, 0 to 6\n",
      "Data columns (total 53 columns):\n",
      " #   Column                 Non-Null Count  Dtype  \n",
      "---  ------                 --------------  -----  \n",
      " 0   gmap_id                7 non-null      object \n",
      " 1   business_name          7 non-null      object \n",
      " 2   address                7 non-null      object \n",
      " 3   city                   7 non-null      object \n",
      " 4   state                  7 non-null      object \n",
      " 5   zip_code               7 non-null      object \n",
      " 6   latitude               7 non-null      float64\n",
      " 7   longitude              7 non-null      float64\n",
      " 8   avg_rating             7 non-null      float64\n",
      " 9   num_of_reviews         7 non-null      int64  \n",
      " 10  verified_latitude      7 non-null      float64\n",
      " 11  verified_longitude     7 non-null      float64\n",
      " 12  lat_diff               7 non-null      float64\n",
      " 13  long_diff              7 non-null      float64\n",
      " 14  business_name_CA       5 non-null      object \n",
      " 15  address_CA             5 non-null      object \n",
      " 16  city_CA                5 non-null      object \n",
      " 17  state_CA               5 non-null      object \n",
      " 18  zip_code_CA            5 non-null      object \n",
      " 19  latitude_CA            5 non-null      float64\n",
      " 20  longitude_CA           5 non-null      float64\n",
      " 21  avg_rating_CA          5 non-null      float64\n",
      " 22  num_of_reviews_CA      5 non-null      float64\n",
      " 23  verified_latitude_CA   5 non-null      float64\n",
      " 24  verified_longitude_CA  5 non-null      float64\n",
      " 25  lat_diff_CA            5 non-null      float64\n",
      " 26  long_diff_CA           5 non-null      float64\n",
      " 27  business_name_NV       1 non-null      object \n",
      " 28  address_NV             1 non-null      object \n",
      " 29  city_NV                1 non-null      object \n",
      " 30  state_NV               1 non-null      object \n",
      " 31  zip_code_NV            1 non-null      object \n",
      " 32  latitude_NV            1 non-null      float64\n",
      " 33  longitude_NV           1 non-null      float64\n",
      " 34  avg_rating_NV          1 non-null      float64\n",
      " 35  num_of_reviews_NV      1 non-null      float64\n",
      " 36  verified_latitude_NV   1 non-null      float64\n",
      " 37  verified_longitude_NV  1 non-null      float64\n",
      " 38  lat_diff_NV            1 non-null      float64\n",
      " 39  long_diff_NV           1 non-null      float64\n",
      " 40  business_name_GA       1 non-null      object \n",
      " 41  address_GA             1 non-null      object \n",
      " 42  city_GA                1 non-null      object \n",
      " 43  state_GA               1 non-null      object \n",
      " 44  zip_code_GA            1 non-null      object \n",
      " 45  latitude_GA            1 non-null      float64\n",
      " 46  longitude_GA           1 non-null      float64\n",
      " 47  avg_rating_GA          1 non-null      float64\n",
      " 48  num_of_reviews_GA      1 non-null      float64\n",
      " 49  verified_latitude_GA   1 non-null      float64\n",
      " 50  verified_longitude_GA  1 non-null      float64\n",
      " 51  lat_diff_GA            1 non-null      float64\n",
      " 52  long_diff_GA           1 non-null      float64\n",
      "dtypes: float64(31), int64(1), object(21)\n",
      "memory usage: 3.0+ KB\n"
     ]
    }
   ],
   "source": [
    "df_unido.info()"
   ]
  },
  {
   "cell_type": "code",
   "execution_count": 46,
   "metadata": {},
   "outputs": [
    {
     "data": {
      "text/html": [
       "<div>\n",
       "<style scoped>\n",
       "    .dataframe tbody tr th:only-of-type {\n",
       "        vertical-align: middle;\n",
       "    }\n",
       "\n",
       "    .dataframe tbody tr th {\n",
       "        vertical-align: top;\n",
       "    }\n",
       "\n",
       "    .dataframe thead th {\n",
       "        text-align: right;\n",
       "    }\n",
       "</style>\n",
       "<table border=\"1\" class=\"dataframe\">\n",
       "  <thead>\n",
       "    <tr style=\"text-align: right;\">\n",
       "      <th></th>\n",
       "      <th>gmap_id</th>\n",
       "      <th>business_name</th>\n",
       "      <th>address</th>\n",
       "      <th>city</th>\n",
       "      <th>state</th>\n",
       "      <th>zip_code</th>\n",
       "      <th>latitude</th>\n",
       "      <th>longitude</th>\n",
       "      <th>avg_rating</th>\n",
       "      <th>num_of_reviews</th>\n",
       "      <th>...</th>\n",
       "      <th>state_GA</th>\n",
       "      <th>zip_code_GA</th>\n",
       "      <th>latitude_GA</th>\n",
       "      <th>longitude_GA</th>\n",
       "      <th>avg_rating_GA</th>\n",
       "      <th>num_of_reviews_GA</th>\n",
       "      <th>verified_latitude_GA</th>\n",
       "      <th>verified_longitude_GA</th>\n",
       "      <th>lat_diff_GA</th>\n",
       "      <th>long_diff_GA</th>\n",
       "    </tr>\n",
       "  </thead>\n",
       "  <tbody>\n",
       "    <tr>\n",
       "      <th>0</th>\n",
       "      <td>0x809467352f2ce435:0x9d7881ae2a25c1b0</td>\n",
       "      <td>Piara Pizza</td>\n",
       "      <td>3131 N Maroa Ave</td>\n",
       "      <td>Fresno</td>\n",
       "      <td>CA</td>\n",
       "      <td>93704</td>\n",
       "      <td>36.779041</td>\n",
       "      <td>-119.800262</td>\n",
       "      <td>4.3</td>\n",
       "      <td>26</td>\n",
       "      <td>...</td>\n",
       "      <td>NaN</td>\n",
       "      <td>NaN</td>\n",
       "      <td>NaN</td>\n",
       "      <td>NaN</td>\n",
       "      <td>NaN</td>\n",
       "      <td>NaN</td>\n",
       "      <td>NaN</td>\n",
       "      <td>NaN</td>\n",
       "      <td>NaN</td>\n",
       "      <td>NaN</td>\n",
       "    </tr>\n",
       "    <tr>\n",
       "      <th>1</th>\n",
       "      <td>0x80c2971865b00631:0x1d360a4bfe47e631</td>\n",
       "      <td>Chit Chat Restaurant Cafe Lounge</td>\n",
       "      <td>7115 Van Nuys Blvd</td>\n",
       "      <td>Van Nuys</td>\n",
       "      <td>CA</td>\n",
       "      <td>91405</td>\n",
       "      <td>34.199821</td>\n",
       "      <td>-118.449029</td>\n",
       "      <td>4.8</td>\n",
       "      <td>18</td>\n",
       "      <td>...</td>\n",
       "      <td>NaN</td>\n",
       "      <td>NaN</td>\n",
       "      <td>NaN</td>\n",
       "      <td>NaN</td>\n",
       "      <td>NaN</td>\n",
       "      <td>NaN</td>\n",
       "      <td>NaN</td>\n",
       "      <td>NaN</td>\n",
       "      <td>NaN</td>\n",
       "      <td>NaN</td>\n",
       "    </tr>\n",
       "    <tr>\n",
       "      <th>2</th>\n",
       "      <td>0x80c2c7726b53b8e5:0xad288d11654f5e48</td>\n",
       "      <td>PIZZA ROW RECORDS</td>\n",
       "      <td>433 E 7th St</td>\n",
       "      <td>Los Angeles</td>\n",
       "      <td>CA</td>\n",
       "      <td>90014</td>\n",
       "      <td>34.041406</td>\n",
       "      <td>-118.247477</td>\n",
       "      <td>4.3</td>\n",
       "      <td>34</td>\n",
       "      <td>...</td>\n",
       "      <td>NaN</td>\n",
       "      <td>NaN</td>\n",
       "      <td>NaN</td>\n",
       "      <td>NaN</td>\n",
       "      <td>NaN</td>\n",
       "      <td>NaN</td>\n",
       "      <td>NaN</td>\n",
       "      <td>NaN</td>\n",
       "      <td>NaN</td>\n",
       "      <td>NaN</td>\n",
       "    </tr>\n",
       "    <tr>\n",
       "      <th>3</th>\n",
       "      <td>0x80c2c7d5279490eb:0x4374ad061c2c67de</td>\n",
       "      <td>Danny Boy's Famous Original Pizza</td>\n",
       "      <td>330 S Hope St</td>\n",
       "      <td>Los Angeles</td>\n",
       "      <td>CA</td>\n",
       "      <td>90071</td>\n",
       "      <td>34.052914</td>\n",
       "      <td>-118.252486</td>\n",
       "      <td>5.0</td>\n",
       "      <td>7</td>\n",
       "      <td>...</td>\n",
       "      <td>NaN</td>\n",
       "      <td>NaN</td>\n",
       "      <td>NaN</td>\n",
       "      <td>NaN</td>\n",
       "      <td>NaN</td>\n",
       "      <td>NaN</td>\n",
       "      <td>NaN</td>\n",
       "      <td>NaN</td>\n",
       "      <td>NaN</td>\n",
       "      <td>NaN</td>\n",
       "    </tr>\n",
       "    <tr>\n",
       "      <th>4</th>\n",
       "      <td>0x80c8dd7678249c49:0x6f2556114030dded</td>\n",
       "      <td>Domino's Pizza</td>\n",
       "      <td>6540 E Lake Mead Blvd</td>\n",
       "      <td>Las Vegas</td>\n",
       "      <td>NV</td>\n",
       "      <td>89156</td>\n",
       "      <td>36.196051</td>\n",
       "      <td>-115.030257</td>\n",
       "      <td>3.7</td>\n",
       "      <td>8</td>\n",
       "      <td>...</td>\n",
       "      <td>NaN</td>\n",
       "      <td>NaN</td>\n",
       "      <td>NaN</td>\n",
       "      <td>NaN</td>\n",
       "      <td>NaN</td>\n",
       "      <td>NaN</td>\n",
       "      <td>NaN</td>\n",
       "      <td>NaN</td>\n",
       "      <td>NaN</td>\n",
       "      <td>NaN</td>\n",
       "    </tr>\n",
       "  </tbody>\n",
       "</table>\n",
       "<p>5 rows × 53 columns</p>\n",
       "</div>"
      ],
      "text/plain": [
       "                                 gmap_id                      business_name  \\\n",
       "0  0x809467352f2ce435:0x9d7881ae2a25c1b0                        Piara Pizza   \n",
       "1  0x80c2971865b00631:0x1d360a4bfe47e631   Chit Chat Restaurant Cafe Lounge   \n",
       "2  0x80c2c7726b53b8e5:0xad288d11654f5e48                  PIZZA ROW RECORDS   \n",
       "3  0x80c2c7d5279490eb:0x4374ad061c2c67de  Danny Boy's Famous Original Pizza   \n",
       "4  0x80c8dd7678249c49:0x6f2556114030dded                     Domino's Pizza   \n",
       "\n",
       "                 address         city state zip_code   latitude   longitude  \\\n",
       "0       3131 N Maroa Ave       Fresno    CA    93704  36.779041 -119.800262   \n",
       "1     7115 Van Nuys Blvd     Van Nuys    CA    91405  34.199821 -118.449029   \n",
       "2           433 E 7th St  Los Angeles    CA    90014  34.041406 -118.247477   \n",
       "3          330 S Hope St  Los Angeles    CA    90071  34.052914 -118.252486   \n",
       "4  6540 E Lake Mead Blvd    Las Vegas    NV    89156  36.196051 -115.030257   \n",
       "\n",
       "   avg_rating  num_of_reviews  ...  state_GA  zip_code_GA  latitude_GA  \\\n",
       "0         4.3              26  ...       NaN          NaN          NaN   \n",
       "1         4.8              18  ...       NaN          NaN          NaN   \n",
       "2         4.3              34  ...       NaN          NaN          NaN   \n",
       "3         5.0               7  ...       NaN          NaN          NaN   \n",
       "4         3.7               8  ...       NaN          NaN          NaN   \n",
       "\n",
       "   longitude_GA avg_rating_GA num_of_reviews_GA verified_latitude_GA  \\\n",
       "0           NaN           NaN               NaN                  NaN   \n",
       "1           NaN           NaN               NaN                  NaN   \n",
       "2           NaN           NaN               NaN                  NaN   \n",
       "3           NaN           NaN               NaN                  NaN   \n",
       "4           NaN           NaN               NaN                  NaN   \n",
       "\n",
       "  verified_longitude_GA lat_diff_GA  long_diff_GA  \n",
       "0                   NaN         NaN           NaN  \n",
       "1                   NaN         NaN           NaN  \n",
       "2                   NaN         NaN           NaN  \n",
       "3                   NaN         NaN           NaN  \n",
       "4                   NaN         NaN           NaN  \n",
       "\n",
       "[5 rows x 53 columns]"
      ]
     },
     "execution_count": 46,
     "metadata": {},
     "output_type": "execute_result"
    }
   ],
   "source": [
    "df_unido.head()"
   ]
  },
  {
   "cell_type": "code",
   "execution_count": 47,
   "metadata": {},
   "outputs": [
    {
     "data": {
      "text/html": [
       "<div>\n",
       "<style scoped>\n",
       "    .dataframe tbody tr th:only-of-type {\n",
       "        vertical-align: middle;\n",
       "    }\n",
       "\n",
       "    .dataframe tbody tr th {\n",
       "        vertical-align: top;\n",
       "    }\n",
       "\n",
       "    .dataframe thead th {\n",
       "        text-align: right;\n",
       "    }\n",
       "</style>\n",
       "<table border=\"1\" class=\"dataframe\">\n",
       "  <thead>\n",
       "    <tr style=\"text-align: right;\">\n",
       "      <th></th>\n",
       "      <th>gmap_id</th>\n",
       "    </tr>\n",
       "    <tr>\n",
       "      <th>state</th>\n",
       "      <th></th>\n",
       "    </tr>\n",
       "  </thead>\n",
       "  <tbody>\n",
       "    <tr>\n",
       "      <th>CA</th>\n",
       "      <td>5</td>\n",
       "    </tr>\n",
       "    <tr>\n",
       "      <th>GA</th>\n",
       "      <td>1</td>\n",
       "    </tr>\n",
       "    <tr>\n",
       "      <th>NV</th>\n",
       "      <td>1</td>\n",
       "    </tr>\n",
       "  </tbody>\n",
       "</table>\n",
       "</div>"
      ],
      "text/plain": [
       "       gmap_id\n",
       "state         \n",
       "CA           5\n",
       "GA           1\n",
       "NV           1"
      ]
     },
     "execution_count": 47,
     "metadata": {},
     "output_type": "execute_result"
    }
   ],
   "source": [
    "# cuento la cantidad de reseñas de pizzerias en cada estado / no puedo contar con una sola columna\n",
    "df_unido[['state', 'gmap_id' ]].groupby('state').count()"
   ]
  },
  {
   "cell_type": "code",
   "execution_count": 48,
   "metadata": {},
   "outputs": [],
   "source": [
    "# guardo df_pizza_NJNY_rev\n",
    "df_unido.to_parquet('maps/df_estados.parquet' , engine='fastparquet')"
   ]
  }
 ],
 "metadata": {
  "kernelspec": {
   "display_name": "Python 3",
   "language": "python",
   "name": "python3"
  },
  "language_info": {
   "codemirror_mode": {
    "name": "ipython",
    "version": 3
   },
   "file_extension": ".py",
   "mimetype": "text/x-python",
   "name": "python",
   "nbconvert_exporter": "python",
   "pygments_lexer": "ipython3",
   "version": "3.10.11"
  }
 },
 "nbformat": 4,
 "nbformat_minor": 2
}
