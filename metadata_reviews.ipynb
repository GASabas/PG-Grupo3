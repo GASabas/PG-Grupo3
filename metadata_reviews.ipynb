{
 "cells": [
  {
   "cell_type": "markdown",
   "metadata": {},
   "source": [
    "### DATA PT14-extra - Proyecto final - Grupo 3\n",
    "#### Control de calidad de los datos del archivo Google Maps review de los estados de California (CA) y Nevada(NV)"
   ]
  },
  {
   "cell_type": "code",
   "execution_count": 1,
   "metadata": {},
   "outputs": [],
   "source": [
    "import glob\n",
    "import matplotlib.pyplot as plt\n",
    "import numpy as np\n",
    "import os\n",
    "import pandas as pd\n",
    "import seaborn as sns\n",
    "import warnings\n",
    "warnings.filterwarnings(\"ignore\")"
   ]
  },
  {
   "cell_type": "markdown",
   "metadata": {},
   "source": [
    "Comenzamos con California"
   ]
  },
  {
   "cell_type": "code",
   "execution_count": 4,
   "metadata": {},
   "outputs": [],
   "source": [
    "# Obtener la lista de archivos JSON en carpeta\n",
    "archivos_CA = glob.glob(os.path.join(r'C:\\Users\\gonza\\OneDrive\\Desktop\\Proyecto Grupal Henry\\Maps\\review-California', \"*.json\"))"
   ]
  },
  {
   "cell_type": "code",
   "execution_count": 6,
   "metadata": {},
   "outputs": [],
   "source": [
    "# Se guardará archivos JSON en formato pickle (binario) el cual es más rápido para futuras consultas\n",
    "for archivo in archivos_CA:\n",
    "    df = pd.read_json(archivo, lines=True)\n",
    "    df.to_pickle(archivo.replace(\".json\", \".pkl\"))  # Guardar como .pkl"
   ]
  },
  {
   "cell_type": "code",
   "execution_count": 7,
   "metadata": {},
   "outputs": [
    {
     "data": {
      "text/html": [
       "<div>\n",
       "<style scoped>\n",
       "    .dataframe tbody tr th:only-of-type {\n",
       "        vertical-align: middle;\n",
       "    }\n",
       "\n",
       "    .dataframe tbody tr th {\n",
       "        vertical-align: top;\n",
       "    }\n",
       "\n",
       "    .dataframe thead th {\n",
       "        text-align: right;\n",
       "    }\n",
       "</style>\n",
       "<table border=\"1\" class=\"dataframe\">\n",
       "  <thead>\n",
       "    <tr style=\"text-align: right;\">\n",
       "      <th></th>\n",
       "      <th>user_id</th>\n",
       "      <th>name</th>\n",
       "      <th>time</th>\n",
       "      <th>rating</th>\n",
       "      <th>text</th>\n",
       "      <th>pics</th>\n",
       "      <th>resp</th>\n",
       "      <th>gmap_id</th>\n",
       "    </tr>\n",
       "  </thead>\n",
       "  <tbody>\n",
       "    <tr>\n",
       "      <th>0</th>\n",
       "      <td>1.089912e+20</td>\n",
       "      <td>Song Ro</td>\n",
       "      <td>1609909927056</td>\n",
       "      <td>5</td>\n",
       "      <td>Love there korean rice cake.</td>\n",
       "      <td>None</td>\n",
       "      <td>None</td>\n",
       "      <td>0x80c2c778e3b73d33:0xbdc58662a4a97d49</td>\n",
       "    </tr>\n",
       "    <tr>\n",
       "      <th>1</th>\n",
       "      <td>1.112903e+20</td>\n",
       "      <td>Rafa Robles</td>\n",
       "      <td>1612849648663</td>\n",
       "      <td>5</td>\n",
       "      <td>Good very good</td>\n",
       "      <td>None</td>\n",
       "      <td>None</td>\n",
       "      <td>0x80c2c778e3b73d33:0xbdc58662a4a97d49</td>\n",
       "    </tr>\n",
       "    <tr>\n",
       "      <th>2</th>\n",
       "      <td>1.126404e+20</td>\n",
       "      <td>David Han</td>\n",
       "      <td>1583643882296</td>\n",
       "      <td>4</td>\n",
       "      <td>They make Korean traditional food very properly.</td>\n",
       "      <td>None</td>\n",
       "      <td>None</td>\n",
       "      <td>0x80c2c778e3b73d33:0xbdc58662a4a97d49</td>\n",
       "    </tr>\n",
       "    <tr>\n",
       "      <th>3</th>\n",
       "      <td>1.174403e+20</td>\n",
       "      <td>Anthony Kim</td>\n",
       "      <td>1551938216355</td>\n",
       "      <td>5</td>\n",
       "      <td>Short ribs are very delicious.</td>\n",
       "      <td>None</td>\n",
       "      <td>None</td>\n",
       "      <td>0x80c2c778e3b73d33:0xbdc58662a4a97d49</td>\n",
       "    </tr>\n",
       "    <tr>\n",
       "      <th>4</th>\n",
       "      <td>1.005808e+20</td>\n",
       "      <td>Mario Marzouk</td>\n",
       "      <td>1494910901933</td>\n",
       "      <td>5</td>\n",
       "      <td>Great food and prices the portions are large</td>\n",
       "      <td>None</td>\n",
       "      <td>None</td>\n",
       "      <td>0x80c2c778e3b73d33:0xbdc58662a4a97d49</td>\n",
       "    </tr>\n",
       "  </tbody>\n",
       "</table>\n",
       "</div>"
      ],
      "text/plain": [
       "        user_id           name           time  rating  \\\n",
       "0  1.089912e+20        Song Ro  1609909927056       5   \n",
       "1  1.112903e+20    Rafa Robles  1612849648663       5   \n",
       "2  1.126404e+20      David Han  1583643882296       4   \n",
       "3  1.174403e+20    Anthony Kim  1551938216355       5   \n",
       "4  1.005808e+20  Mario Marzouk  1494910901933       5   \n",
       "\n",
       "                                               text  pics  resp  \\\n",
       "0                      Love there korean rice cake.  None  None   \n",
       "1                                    Good very good  None  None   \n",
       "2  They make Korean traditional food very properly.  None  None   \n",
       "3                    Short ribs are very delicious.  None  None   \n",
       "4      Great food and prices the portions are large  None  None   \n",
       "\n",
       "                                 gmap_id  \n",
       "0  0x80c2c778e3b73d33:0xbdc58662a4a97d49  \n",
       "1  0x80c2c778e3b73d33:0xbdc58662a4a97d49  \n",
       "2  0x80c2c778e3b73d33:0xbdc58662a4a97d49  \n",
       "3  0x80c2c778e3b73d33:0xbdc58662a4a97d49  \n",
       "4  0x80c2c778e3b73d33:0xbdc58662a4a97d49  "
      ]
     },
     "execution_count": 7,
     "metadata": {},
     "output_type": "execute_result"
    }
   ],
   "source": [
    "# Carga los archivos Pickle generados y los combina en un solo DataFrame.\n",
    "df_list = [pd.read_pickle(archivo.replace(\".json\", \".pkl\")) for archivo in archivos_CA] # convierte el nombre de cada archivo de .json a .pkl para cargarlo correctamente.\n",
    "df_rev_CA = pd.concat(df_list, ignore_index=True)\n",
    "\n",
    "df_rev_CA.head()"
   ]
  },
  {
   "cell_type": "code",
   "execution_count": 8,
   "metadata": {},
   "outputs": [
    {
     "name": "stdout",
     "output_type": "stream",
     "text": [
      "<class 'pandas.core.frame.DataFrame'>\n",
      "RangeIndex: 2700000 entries, 0 to 2699999\n",
      "Data columns (total 8 columns):\n",
      " #   Column   Dtype  \n",
      "---  ------   -----  \n",
      " 0   user_id  float64\n",
      " 1   name     object \n",
      " 2   time     int64  \n",
      " 3   rating   int64  \n",
      " 4   text     object \n",
      " 5   pics     object \n",
      " 6   resp     object \n",
      " 7   gmap_id  object \n",
      "dtypes: float64(1), int64(2), object(5)\n",
      "memory usage: 164.8+ MB\n"
     ]
    }
   ],
   "source": [
    "df_rev_CA.info()"
   ]
  },
  {
   "cell_type": "code",
   "execution_count": 9,
   "metadata": {},
   "outputs": [],
   "source": [
    "# Eliminamos, por ahora, pics y resp. no usaremos esas columnas\n",
    "df_rev_CA = df_rev_CA.drop(columns=['pics', 'resp'])"
   ]
  },
  {
   "cell_type": "code",
   "execution_count": 10,
   "metadata": {},
   "outputs": [
    {
     "name": "stdout",
     "output_type": "stream",
     "text": [
      "              user_id            name           time  rating  \\\n",
      "1028819  1.000003e+20  Daisy Villalon  1559520478805       3   \n",
      "1028824  1.000003e+20  Daisy Villalon  1559520478805       3   \n",
      "467997   1.000009e+20    Kyle Cassara  1552753057554       2   \n",
      "468004   1.000009e+20    Kyle Cassara  1552753057554       2   \n",
      "13055    1.000011e+20       Dan Serns  1630954898274       5   \n",
      "...               ...             ...            ...     ...   \n",
      "1077032  1.184459e+20  Jonathan Higgs  1542656249878       5   \n",
      "1235163  1.184461e+20  Scott Mortimer  1516986179854       4   \n",
      "1235170  1.184461e+20  Scott Mortimer  1516986179854       4   \n",
      "920713   1.184465e+20     Jack Evanko  1489942134459       4   \n",
      "920727   1.184465e+20     Jack Evanko  1489942134459       4   \n",
      "\n",
      "                                                      text  \\\n",
      "1028819  (Translated by Google) Good food but service m...   \n",
      "1028824  (Translated by Google) Good food but service m...   \n",
      "467997   I don't know why but they come around the coun...   \n",
      "468004   I don't know why but they come around the coun...   \n",
      "13055           Great people telling everyone about Jesus!   \n",
      "...                                                    ...   \n",
      "1077032  Good mix of fast food joints to eat at, plus a...   \n",
      "1235163        Needed a retro style toy ... found it here.   \n",
      "1235170        Needed a retro style toy ... found it here.   \n",
      "920713                 excellent choice of beers and staff   \n",
      "920727                 excellent choice of beers and staff   \n",
      "\n",
      "                                       gmap_id  \n",
      "1028819  0x80c34b464df7a6cd:0x2da4e9fc06997e8b  \n",
      "1028824  0x80c34b464df7a6cd:0x2da4e9fc06997e8b  \n",
      "467997   0x80c29a8993f87039:0xa14f49e4658ac11a  \n",
      "468004   0x80c29a8993f87039:0xa14f49e4658ac11a  \n",
      "13055    0x80945c4453bdb57d:0xf0f92b97637f0429  \n",
      "...                                        ...  \n",
      "1077032   0x8090cf62b86c8127:0x4df0d650129228f  \n",
      "1235163  0x809acee2d2d52d83:0x6b1cf692e36b7e07  \n",
      "1235170  0x809acee2d2d52d83:0x6b1cf692e36b7e07  \n",
      "920713   0x80856f8454b83a49:0xffcb4b8bb8bb0384  \n",
      "920727   0x80856f8454b83a49:0xffcb4b8bb8bb0384  \n",
      "\n",
      "[149377 rows x 6 columns]\n"
     ]
    }
   ],
   "source": [
    "# # reviso si hay reviews duplicadas\n",
    "df_dup = df_rev_CA[df_rev_CA.duplicated(subset=['user_id', 'gmap_id', 'time'], keep=False)]\n",
    "df_dup = df_dup.sort_values(['user_id', 'gmap_id', 'time'])\n",
    "\n",
    "print(df_dup)"
   ]
  },
  {
   "cell_type": "markdown",
   "metadata": {},
   "source": [
    "Hay 149377 reviews duplicadas por las columnas 'user_id', 'gmap_id', 'time' para el estado de CA. Las elimino"
   ]
  },
  {
   "cell_type": "code",
   "execution_count": 11,
   "metadata": {},
   "outputs": [],
   "source": [
    "# eliminar los duplicados manteniendo la primera instancia\n",
    "df_rev_CA_sindup = df_rev_CA.drop_duplicates(subset=['user_id', 'gmap_id', 'time'], keep='first')"
   ]
  },
  {
   "cell_type": "code",
   "execution_count": 12,
   "metadata": {},
   "outputs": [],
   "source": [
    "# rename column name to user_name\n",
    "df_rev_CA_sindup.rename(columns={'name': 'user_name'}, inplace=True)"
   ]
  },
  {
   "cell_type": "code",
   "execution_count": 13,
   "metadata": {},
   "outputs": [],
   "source": [
    "# convertir columna time en int64 a datetime\n",
    "df_rev_CA_sindup['date'] = pd.to_datetime(df_rev_CA_sindup['time'], unit='ms')"
   ]
  },
  {
   "cell_type": "code",
   "execution_count": 14,
   "metadata": {},
   "outputs": [
    {
     "name": "stdout",
     "output_type": "stream",
     "text": [
      "<class 'pandas.core.frame.DataFrame'>\n",
      "Index: 2624746 entries, 0 to 2699999\n",
      "Data columns (total 6 columns):\n",
      " #   Column     Dtype         \n",
      "---  ------     -----         \n",
      " 0   user_id    float64       \n",
      " 1   user_name  object        \n",
      " 2   rating     int64         \n",
      " 3   text       object        \n",
      " 4   gmap_id    object        \n",
      " 5   date       datetime64[ns]\n",
      "dtypes: datetime64[ns](1), float64(1), int64(1), object(3)\n",
      "memory usage: 140.2+ MB\n"
     ]
    }
   ],
   "source": [
    "# Eliminamos la columan time\n",
    "df_rev_CA_sindup = df_rev_CA_sindup.drop(columns=['time'])\n",
    "df_rev_CA_sindup.info()"
   ]
  },
  {
   "cell_type": "code",
   "execution_count": 15,
   "metadata": {},
   "outputs": [],
   "source": [
    "# guardo df_rev_NJ_sindup\n",
    "df_rev_CA_sindup.to_parquet(r'C:\\Users\\gonza\\OneDrive\\Desktop\\Proyecto Grupal Henry\\Maps\\df_rev_CA_sindup.parquet' , engine='fastparquet')"
   ]
  },
  {
   "cell_type": "code",
   "execution_count": 17,
   "metadata": {},
   "outputs": [],
   "source": [
    "# leo el archivo de las pizzerias mt_pizza_NJNY para hacer join con este\n",
    "# How to read a Parquet file into Pandas DataFrame?\n",
    "df_mt_pizza_CANV = pd.read_parquet(r'C:\\Users\\gonza\\OneDrive\\Desktop\\Proyecto Grupal Henry\\Maps\\df_mt_pizza_CANV_sindup_verif_coord.parquet' , engine='fastparquet')"
   ]
  },
  {
   "cell_type": "code",
   "execution_count": 18,
   "metadata": {},
   "outputs": [
    {
     "name": "stdout",
     "output_type": "stream",
     "text": [
      "<class 'pandas.core.frame.DataFrame'>\n",
      "Index: 2395 entries, 6738 to 3023082\n",
      "Data columns (total 10 columns):\n",
      " #   Column          Non-Null Count  Dtype  \n",
      "---  ------          --------------  -----  \n",
      " 0   gmap_id         2395 non-null   object \n",
      " 1   business_name   2395 non-null   object \n",
      " 2   address         2387 non-null   object \n",
      " 3   city            2395 non-null   object \n",
      " 4   state           2395 non-null   object \n",
      " 5   zip_code        2395 non-null   object \n",
      " 6   latitude        2395 non-null   float64\n",
      " 7   longitude       2395 non-null   float64\n",
      " 8   avg_rating      2395 non-null   float64\n",
      " 9   num_of_reviews  2395 non-null   int64  \n",
      "dtypes: float64(3), int64(1), object(6)\n",
      "memory usage: 205.8+ KB\n"
     ]
    }
   ],
   "source": [
    "df_mt_pizza_CANV.info()"
   ]
  },
  {
   "cell_type": "code",
   "execution_count": 20,
   "metadata": {},
   "outputs": [],
   "source": [
    "df_mt_pizza_CANV.to_excel(r'C:\\Users\\gonza\\OneDrive\\Desktop\\Proyecto Grupal Henry\\Maps\\df_mt_pizza_CANV.xlsx')"
   ]
  },
  {
   "cell_type": "code",
   "execution_count": 21,
   "metadata": {},
   "outputs": [
    {
     "data": {
      "text/html": [
       "<div>\n",
       "<style scoped>\n",
       "    .dataframe tbody tr th:only-of-type {\n",
       "        vertical-align: middle;\n",
       "    }\n",
       "\n",
       "    .dataframe tbody tr th {\n",
       "        vertical-align: top;\n",
       "    }\n",
       "\n",
       "    .dataframe thead th {\n",
       "        text-align: right;\n",
       "    }\n",
       "</style>\n",
       "<table border=\"1\" class=\"dataframe\">\n",
       "  <thead>\n",
       "    <tr style=\"text-align: right;\">\n",
       "      <th></th>\n",
       "      <th>business_name</th>\n",
       "    </tr>\n",
       "    <tr>\n",
       "      <th>state</th>\n",
       "      <th></th>\n",
       "    </tr>\n",
       "  </thead>\n",
       "  <tbody>\n",
       "    <tr>\n",
       "      <th>CA</th>\n",
       "      <td>2087</td>\n",
       "    </tr>\n",
       "    <tr>\n",
       "      <th>NV</th>\n",
       "      <td>200</td>\n",
       "    </tr>\n",
       "    <tr>\n",
       "      <th>United</th>\n",
       "      <td>108</td>\n",
       "    </tr>\n",
       "  </tbody>\n",
       "</table>\n",
       "</div>"
      ],
      "text/plain": [
       "        business_name\n",
       "state                \n",
       "CA               2087\n",
       "NV                200\n",
       "United            108"
      ]
     },
     "execution_count": 21,
     "metadata": {},
     "output_type": "execute_result"
    }
   ],
   "source": [
    "# cuento la cantidad de pizzerias en cada estado / no puedo contar con una sola columna\n",
    "df_mt_pizza_CANV[['state', 'business_name' ]].groupby('state').count()"
   ]
  },
  {
   "cell_type": "markdown",
   "metadata": {},
   "source": [
    "Googlemaps tiene datos de 2087 pizzerias en CA y 200 pizzerias en NV"
   ]
  },
  {
   "cell_type": "code",
   "execution_count": 22,
   "metadata": {},
   "outputs": [
    {
     "name": "stdout",
     "output_type": "stream",
     "text": [
      "<class 'pandas.core.frame.DataFrame'>\n",
      "Index: 2087 entries, 6738 to 3023082\n",
      "Data columns (total 10 columns):\n",
      " #   Column          Non-Null Count  Dtype  \n",
      "---  ------          --------------  -----  \n",
      " 0   gmap_id         2087 non-null   object \n",
      " 1   business_name   2087 non-null   object \n",
      " 2   address         2079 non-null   object \n",
      " 3   city            2087 non-null   object \n",
      " 4   state           2087 non-null   object \n",
      " 5   zip_code        2087 non-null   object \n",
      " 6   latitude        2087 non-null   float64\n",
      " 7   longitude       2087 non-null   float64\n",
      " 8   avg_rating      2087 non-null   float64\n",
      " 9   num_of_reviews  2087 non-null   int64  \n",
      "dtypes: float64(3), int64(1), object(6)\n",
      "memory usage: 179.4+ KB\n"
     ]
    }
   ],
   "source": [
    "# separo las pizzerias de CA de las de NV. Luego hago left join con las reviews y vuelvo a unir los dataframe\n",
    "df_mt_pizza_CA = df_mt_pizza_CANV[df_mt_pizza_CANV['state'] == 'CA']\n",
    "df_mt_pizza_CA.info()"
   ]
  },
  {
   "cell_type": "code",
   "execution_count": 23,
   "metadata": {},
   "outputs": [
    {
     "name": "stdout",
     "output_type": "stream",
     "text": [
      "<class 'pandas.core.frame.DataFrame'>\n",
      "Index: 200 entries, 15388 to 3009501\n",
      "Data columns (total 10 columns):\n",
      " #   Column          Non-Null Count  Dtype  \n",
      "---  ------          --------------  -----  \n",
      " 0   gmap_id         200 non-null    object \n",
      " 1   business_name   200 non-null    object \n",
      " 2   address         200 non-null    object \n",
      " 3   city            200 non-null    object \n",
      " 4   state           200 non-null    object \n",
      " 5   zip_code        200 non-null    object \n",
      " 6   latitude        200 non-null    float64\n",
      " 7   longitude       200 non-null    float64\n",
      " 8   avg_rating      200 non-null    float64\n",
      " 9   num_of_reviews  200 non-null    int64  \n",
      "dtypes: float64(3), int64(1), object(6)\n",
      "memory usage: 17.2+ KB\n"
     ]
    }
   ],
   "source": [
    "df_mt_pizza_NV = df_mt_pizza_CANV[df_mt_pizza_CANV['state'] == 'NV']\n",
    "df_mt_pizza_NV.info()"
   ]
  },
  {
   "cell_type": "markdown",
   "metadata": {},
   "source": [
    "Uno el dataframe de datos de pizzerias de CA en un left join con el de los datos de reviews de CA para obtener todas las reviews de pizzerias de CA y agregarle el nombre del local. Mas adelante hare los mismo para los locales de NV. Y luego unire los dos dataframes"
   ]
  },
  {
   "cell_type": "code",
   "execution_count": 24,
   "metadata": {},
   "outputs": [],
   "source": [
    "df_pizza_CA_rev = pd.merge(df_mt_pizza_CA, df_rev_CA_sindup, how='left', on='gmap_id') # tengo que hacer left join"
   ]
  },
  {
   "cell_type": "code",
   "execution_count": 25,
   "metadata": {},
   "outputs": [
    {
     "name": "stdout",
     "output_type": "stream",
     "text": [
      "<class 'pandas.core.frame.DataFrame'>\n",
      "RangeIndex: 29025 entries, 0 to 29024\n",
      "Data columns (total 15 columns):\n",
      " #   Column          Non-Null Count  Dtype         \n",
      "---  ------          --------------  -----         \n",
      " 0   gmap_id         29025 non-null  object        \n",
      " 1   business_name   29025 non-null  object        \n",
      " 2   address         29004 non-null  object        \n",
      " 3   city            29025 non-null  object        \n",
      " 4   state           29025 non-null  object        \n",
      " 5   zip_code        29025 non-null  object        \n",
      " 6   latitude        29025 non-null  float64       \n",
      " 7   longitude       29025 non-null  float64       \n",
      " 8   avg_rating      29025 non-null  float64       \n",
      " 9   num_of_reviews  29025 non-null  int64         \n",
      " 10  user_id         27574 non-null  float64       \n",
      " 11  user_name       27574 non-null  object        \n",
      " 12  rating          27574 non-null  float64       \n",
      " 13  text            16632 non-null  object        \n",
      " 14  date            27574 non-null  datetime64[ns]\n",
      "dtypes: datetime64[ns](1), float64(5), int64(1), object(8)\n",
      "memory usage: 3.3+ MB\n"
     ]
    }
   ],
   "source": [
    "df_pizza_CA_rev.info()"
   ]
  },
  {
   "cell_type": "markdown",
   "metadata": {},
   "source": [
    "Hay 12393 pizzerias del CA que no tienen reviews en el archivo usado. Se eliminaran con las de los locales de NV que tampoco tengan reseñas. </br>"
   ]
  },
  {
   "cell_type": "markdown",
   "metadata": {},
   "source": [
    "HAgo lo mismo con Nevada"
   ]
  },
  {
   "cell_type": "code",
   "execution_count": 26,
   "metadata": {},
   "outputs": [],
   "source": [
    "# Obtener la lista de archivos JSON en carpeta\n",
    "archivos_json = glob.glob(os.path.join(r'C:\\Users\\gonza\\OneDrive\\Desktop\\Proyecto Grupal Henry\\Maps\\review-Nevada', \"*.json\"))"
   ]
  },
  {
   "cell_type": "code",
   "execution_count": 27,
   "metadata": {},
   "outputs": [],
   "source": [
    "# Se guardará archivos JSON en formato pickle (binario) el cual es más rápido para futuras consultas\n",
    "for archivo in archivos_json:\n",
    "    df = pd.read_json(archivo, lines=True)\n",
    "    df.to_pickle(archivo.replace(\".json\", \".pkl\"))  # Guardar como .pkl"
   ]
  },
  {
   "cell_type": "code",
   "execution_count": 28,
   "metadata": {},
   "outputs": [
    {
     "data": {
      "text/html": [
       "<div>\n",
       "<style scoped>\n",
       "    .dataframe tbody tr th:only-of-type {\n",
       "        vertical-align: middle;\n",
       "    }\n",
       "\n",
       "    .dataframe tbody tr th {\n",
       "        vertical-align: top;\n",
       "    }\n",
       "\n",
       "    .dataframe thead th {\n",
       "        text-align: right;\n",
       "    }\n",
       "</style>\n",
       "<table border=\"1\" class=\"dataframe\">\n",
       "  <thead>\n",
       "    <tr style=\"text-align: right;\">\n",
       "      <th></th>\n",
       "      <th>user_id</th>\n",
       "      <th>name</th>\n",
       "      <th>time</th>\n",
       "      <th>rating</th>\n",
       "      <th>text</th>\n",
       "      <th>pics</th>\n",
       "      <th>resp</th>\n",
       "      <th>gmap_id</th>\n",
       "    </tr>\n",
       "  </thead>\n",
       "  <tbody>\n",
       "    <tr>\n",
       "      <th>0</th>\n",
       "      <td>1.028432e+20</td>\n",
       "      <td>CDL CO</td>\n",
       "      <td>1622740504476</td>\n",
       "      <td>5</td>\n",
       "      <td>No frills smaller coffee counter in the corner...</td>\n",
       "      <td>[{'url': ['https://lh5.googleusercontent.com/p...</td>\n",
       "      <td>None</td>\n",
       "      <td>0x80c8c5cdced316b5:0xaf1ea0b1e42132a9</td>\n",
       "    </tr>\n",
       "    <tr>\n",
       "      <th>1</th>\n",
       "      <td>1.149544e+20</td>\n",
       "      <td>So_ Blind</td>\n",
       "      <td>1573159413820</td>\n",
       "      <td>1</td>\n",
       "      <td>Save yourself the frustration and just ignore ...</td>\n",
       "      <td>None</td>\n",
       "      <td>None</td>\n",
       "      <td>0x80c8c5cdced316b5:0xaf1ea0b1e42132a9</td>\n",
       "    </tr>\n",
       "    <tr>\n",
       "      <th>2</th>\n",
       "      <td>1.165234e+20</td>\n",
       "      <td>Greg Hansen</td>\n",
       "      <td>1515251163362</td>\n",
       "      <td>3</td>\n",
       "      <td>I passed two Starbucks in order to get to this...</td>\n",
       "      <td>None</td>\n",
       "      <td>None</td>\n",
       "      <td>0x80c8c5cdced316b5:0xaf1ea0b1e42132a9</td>\n",
       "    </tr>\n",
       "    <tr>\n",
       "      <th>3</th>\n",
       "      <td>1.033041e+20</td>\n",
       "      <td>Brett Powell</td>\n",
       "      <td>1506206762095</td>\n",
       "      <td>3</td>\n",
       "      <td>It does the job and is my preference over the ...</td>\n",
       "      <td>None</td>\n",
       "      <td>None</td>\n",
       "      <td>0x80c8c5cdced316b5:0xaf1ea0b1e42132a9</td>\n",
       "    </tr>\n",
       "    <tr>\n",
       "      <th>4</th>\n",
       "      <td>1.141624e+20</td>\n",
       "      <td>M Aris</td>\n",
       "      <td>1468298771892</td>\n",
       "      <td>3</td>\n",
       "      <td>None</td>\n",
       "      <td>None</td>\n",
       "      <td>None</td>\n",
       "      <td>0x80c8c5cdced316b5:0xaf1ea0b1e42132a9</td>\n",
       "    </tr>\n",
       "  </tbody>\n",
       "</table>\n",
       "</div>"
      ],
      "text/plain": [
       "        user_id          name           time  rating  \\\n",
       "0  1.028432e+20        CDL CO  1622740504476       5   \n",
       "1  1.149544e+20     So_ Blind  1573159413820       1   \n",
       "2  1.165234e+20   Greg Hansen  1515251163362       3   \n",
       "3  1.033041e+20  Brett Powell  1506206762095       3   \n",
       "4  1.141624e+20        M Aris  1468298771892       3   \n",
       "\n",
       "                                                text  \\\n",
       "0  No frills smaller coffee counter in the corner...   \n",
       "1  Save yourself the frustration and just ignore ...   \n",
       "2  I passed two Starbucks in order to get to this...   \n",
       "3  It does the job and is my preference over the ...   \n",
       "4                                               None   \n",
       "\n",
       "                                                pics  resp  \\\n",
       "0  [{'url': ['https://lh5.googleusercontent.com/p...  None   \n",
       "1                                               None  None   \n",
       "2                                               None  None   \n",
       "3                                               None  None   \n",
       "4                                               None  None   \n",
       "\n",
       "                                 gmap_id  \n",
       "0  0x80c8c5cdced316b5:0xaf1ea0b1e42132a9  \n",
       "1  0x80c8c5cdced316b5:0xaf1ea0b1e42132a9  \n",
       "2  0x80c8c5cdced316b5:0xaf1ea0b1e42132a9  \n",
       "3  0x80c8c5cdced316b5:0xaf1ea0b1e42132a9  \n",
       "4  0x80c8c5cdced316b5:0xaf1ea0b1e42132a9  "
      ]
     },
     "execution_count": 28,
     "metadata": {},
     "output_type": "execute_result"
    }
   ],
   "source": [
    "# Carga los archivos Pickle generados y los combina en un solo DataFrame.\n",
    "df_list = [pd.read_pickle(archivo.replace(\".json\", \".pkl\")) for archivo in archivos_json] # convierte el nombre de cada archivo de .json a .pkl para cargarlo correctamente.\n",
    "df_rev_NV = pd.concat(df_list, ignore_index=True)\n",
    "\n",
    "df_rev_NV.head()"
   ]
  },
  {
   "cell_type": "code",
   "execution_count": 29,
   "metadata": {},
   "outputs": [
    {
     "name": "stdout",
     "output_type": "stream",
     "text": [
      "<class 'pandas.core.frame.DataFrame'>\n",
      "RangeIndex: 1800000 entries, 0 to 1799999\n",
      "Data columns (total 8 columns):\n",
      " #   Column   Dtype  \n",
      "---  ------   -----  \n",
      " 0   user_id  float64\n",
      " 1   name     object \n",
      " 2   time     int64  \n",
      " 3   rating   int64  \n",
      " 4   text     object \n",
      " 5   pics     object \n",
      " 6   resp     object \n",
      " 7   gmap_id  object \n",
      "dtypes: float64(1), int64(2), object(5)\n",
      "memory usage: 109.9+ MB\n"
     ]
    }
   ],
   "source": [
    "df_rev_NV.info()"
   ]
  },
  {
   "cell_type": "code",
   "execution_count": 30,
   "metadata": {},
   "outputs": [
    {
     "name": "stdout",
     "output_type": "stream",
     "text": [
      "             user_id              name           time  rating  \\\n",
      "742732  1.000006e+20        Susanne M.  1483491925016       2   \n",
      "742751  1.000006e+20        Susanne M.  1483491925016       2   \n",
      "728847  1.000026e+20     Adrian Tucker  1581247464740       5   \n",
      "728991  1.000026e+20     Adrian Tucker  1581247464740       5   \n",
      "668847  1.000034e+20     Daisy Tillman  1533009601759       5   \n",
      "...              ...               ...            ...     ...   \n",
      "1214    1.184459e+20     Menito Garcia  1599873059501       5   \n",
      "549438  1.184460e+20      Mike Mendoza  1498327417640       5   \n",
      "549439  1.184460e+20      Mike Mendoza  1498327417640       5   \n",
      "734659  1.184464e+20  Rodrigo Abrantes  1573341243690       5   \n",
      "734665  1.184464e+20  Rodrigo Abrantes  1573341243690       5   \n",
      "\n",
      "                                                     text  pics  \\\n",
      "742732  Service was good, but the food...meh. Meats we...  None   \n",
      "742751  Service was good, but the food...meh. Meats we...  None   \n",
      "728847  Fun place to go out with friends drink eat wal...  None   \n",
      "728991  Fun place to go out with friends drink eat wal...  None   \n",
      "668847              Great food kids 12 and under eat free  None   \n",
      "...                                                   ...   ...   \n",
      "1214    (Translated by Google) Delicious ice cream and...  None   \n",
      "549438                        Lots of options to shop at!  None   \n",
      "549439                        Lots of options to shop at!  None   \n",
      "734659  (Translated by Google) Very good structure for...  None   \n",
      "734665  (Translated by Google) Very good structure for...  None   \n",
      "\n",
      "                                                     resp  \\\n",
      "742732                                               None   \n",
      "742751                                               None   \n",
      "728847                                               None   \n",
      "728991                                               None   \n",
      "668847                                               None   \n",
      "...                                                   ...   \n",
      "1214    {'time': 1600338210717, 'text': '(Translated b...   \n",
      "549438                                               None   \n",
      "549439                                               None   \n",
      "734659                                               None   \n",
      "734665                                               None   \n",
      "\n",
      "                                      gmap_id  \n",
      "742732  0x80c8c44fa9811765:0x874240a73bc52336  \n",
      "742751  0x80c8c44fa9811765:0x874240a73bc52336  \n",
      "728847  0x80c8c4391fe604bb:0x2ef9528190f64cb7  \n",
      "728991  0x80c8c4391fe604bb:0x2ef9528190f64cb7  \n",
      "668847  0x80c8c430e90de7cf:0xd24e4322ae07f232  \n",
      "...                                       ...  \n",
      "1214    0x80c8c1186114520b:0x181d6e75c4cd85ed  \n",
      "549438  0x80c8cd72a2f462fb:0x178458fd4f88be62  \n",
      "549439  0x80c8cd72a2f462fb:0x178458fd4f88be62  \n",
      "734659  0x80c8c5f09a7b564f:0x32671c010e0c41d6  \n",
      "734665  0x80c8c5f09a7b564f:0x32671c010e0c41d6  \n",
      "\n",
      "[47673 rows x 8 columns]\n"
     ]
    }
   ],
   "source": [
    "# # reviso si hay reviews duplicadas\n",
    "df_dup_NV = df_rev_NV[df_rev_NV.duplicated(subset=['user_id', 'gmap_id', 'time'], keep=False)]\n",
    "df_dup_NV = df_dup_NV.sort_values(['user_id', 'gmap_id', 'time'])\n",
    "\n",
    "print(df_dup_NV)"
   ]
  },
  {
   "cell_type": "markdown",
   "metadata": {},
   "source": [
    "Hay 47673 reseñas duplicadas para NV. Las elimino"
   ]
  },
  {
   "cell_type": "code",
   "execution_count": 31,
   "metadata": {},
   "outputs": [],
   "source": [
    "# eliminar los duplicados manteniendo la primera instancia\n",
    "df_rev_NV_sindup = df_rev_NV.drop_duplicates(subset=['user_id', 'gmap_id', 'time'], keep='first')"
   ]
  },
  {
   "cell_type": "code",
   "execution_count": 32,
   "metadata": {},
   "outputs": [],
   "source": [
    "# convertir columna time en int64 a datetime\n",
    "df_rev_NV_sindup['date'] = pd.to_datetime(df_rev_NV_sindup['time'], unit='ms')"
   ]
  },
  {
   "cell_type": "code",
   "execution_count": 33,
   "metadata": {},
   "outputs": [
    {
     "name": "stdout",
     "output_type": "stream",
     "text": [
      "<class 'pandas.core.frame.DataFrame'>\n",
      "Index: 1775999 entries, 0 to 1799999\n",
      "Data columns (total 8 columns):\n",
      " #   Column   Dtype         \n",
      "---  ------   -----         \n",
      " 0   user_id  float64       \n",
      " 1   name     object        \n",
      " 2   rating   int64         \n",
      " 3   text     object        \n",
      " 4   pics     object        \n",
      " 5   resp     object        \n",
      " 6   gmap_id  object        \n",
      " 7   date     datetime64[ns]\n",
      "dtypes: datetime64[ns](1), float64(1), int64(1), object(5)\n",
      "memory usage: 121.9+ MB\n"
     ]
    }
   ],
   "source": [
    "# Eliminamos la columan time\n",
    "df_rev_NV_sindup = df_rev_NV_sindup.drop(columns=['time'])\n",
    "df_rev_NV_sindup.info()"
   ]
  },
  {
   "cell_type": "code",
   "execution_count": 34,
   "metadata": {},
   "outputs": [],
   "source": [
    "# Eliminamos, por ahora, pics y resp. no usaremos esas columnas\n",
    "df_rev_NV_sindup = df_rev_NV_sindup.drop(columns=['pics', 'resp'])"
   ]
  },
  {
   "cell_type": "code",
   "execution_count": 35,
   "metadata": {},
   "outputs": [],
   "source": [
    "# rename column name to user_name\n",
    "df_rev_NV_sindup.rename(columns={'name': 'user_name'}, inplace=True)"
   ]
  },
  {
   "cell_type": "markdown",
   "metadata": {},
   "source": [
    "Uno el dataframe de datos de pizzerias de NV en un left join con el de los datos de reviews de NV para obtener todas las reviews de pizzerias de NV y agregarle el nombre del local."
   ]
  },
  {
   "cell_type": "code",
   "execution_count": 36,
   "metadata": {},
   "outputs": [],
   "source": [
    "df_pizza_NV_rev = pd.merge(df_mt_pizza_NV, df_rev_NV_sindup, how='left', on='gmap_id') # tengo que hacer left join"
   ]
  },
  {
   "cell_type": "code",
   "execution_count": 37,
   "metadata": {},
   "outputs": [
    {
     "name": "stdout",
     "output_type": "stream",
     "text": [
      "<class 'pandas.core.frame.DataFrame'>\n",
      "RangeIndex: 7396 entries, 0 to 7395\n",
      "Data columns (total 15 columns):\n",
      " #   Column          Non-Null Count  Dtype         \n",
      "---  ------          --------------  -----         \n",
      " 0   gmap_id         7396 non-null   object        \n",
      " 1   business_name   7396 non-null   object        \n",
      " 2   address         7396 non-null   object        \n",
      " 3   city            7396 non-null   object        \n",
      " 4   state           7396 non-null   object        \n",
      " 5   zip_code        7396 non-null   object        \n",
      " 6   latitude        7396 non-null   float64       \n",
      " 7   longitude       7396 non-null   float64       \n",
      " 8   avg_rating      7396 non-null   float64       \n",
      " 9   num_of_reviews  7396 non-null   int64         \n",
      " 10  user_id         7331 non-null   float64       \n",
      " 11  user_name       7331 non-null   object        \n",
      " 12  rating          7331 non-null   float64       \n",
      " 13  text            4761 non-null   object        \n",
      " 14  date            7331 non-null   datetime64[ns]\n",
      "dtypes: datetime64[ns](1), float64(5), int64(1), object(8)\n",
      "memory usage: 866.8+ KB\n"
     ]
    }
   ],
   "source": [
    "df_pizza_NV_rev.info()"
   ]
  },
  {
   "cell_type": "markdown",
   "metadata": {},
   "source": [
    "Hay 2635 pizzerias del NV de las que no hay reviews en el archivo usado."
   ]
  },
  {
   "cell_type": "code",
   "execution_count": 38,
   "metadata": {},
   "outputs": [],
   "source": [
    "# concateno las reviews de googlemaps de las pizzerias de NY y NJ\n",
    "df_pizza_CANV_rev = pd.concat([df_pizza_CA_rev, df_pizza_NV_rev], ignore_index=True)"
   ]
  },
  {
   "cell_type": "code",
   "execution_count": 39,
   "metadata": {},
   "outputs": [
    {
     "name": "stdout",
     "output_type": "stream",
     "text": [
      "<class 'pandas.core.frame.DataFrame'>\n",
      "RangeIndex: 36421 entries, 0 to 36420\n",
      "Data columns (total 15 columns):\n",
      " #   Column          Non-Null Count  Dtype         \n",
      "---  ------          --------------  -----         \n",
      " 0   gmap_id         36421 non-null  object        \n",
      " 1   business_name   36421 non-null  object        \n",
      " 2   address         36400 non-null  object        \n",
      " 3   city            36421 non-null  object        \n",
      " 4   state           36421 non-null  object        \n",
      " 5   zip_code        36421 non-null  object        \n",
      " 6   latitude        36421 non-null  float64       \n",
      " 7   longitude       36421 non-null  float64       \n",
      " 8   avg_rating      36421 non-null  float64       \n",
      " 9   num_of_reviews  36421 non-null  int64         \n",
      " 10  user_id         34905 non-null  float64       \n",
      " 11  user_name       34905 non-null  object        \n",
      " 12  rating          34905 non-null  float64       \n",
      " 13  text            21393 non-null  object        \n",
      " 14  date            34905 non-null  datetime64[ns]\n",
      "dtypes: datetime64[ns](1), float64(5), int64(1), object(8)\n",
      "memory usage: 4.2+ MB\n"
     ]
    }
   ],
   "source": [
    "df_pizza_CANV_rev.info()"
   ]
  },
  {
   "cell_type": "markdown",
   "metadata": {},
   "source": [
    "Hay 15028 pizzerias de las que no hay reviews en el archivo usado. Esto se infiere porque hay esa cantidad de user_id nulos. </br>\n",
    "Es decir que al hacer un left join no habia una una fila con datos de review para ese local. </br>\n",
    "Esas reseñas deben corresponder a un periodo anterior al del que tenemos reseñas.\n",
    "\n",
    "Se eliminarán las filas correspondientes a esos locales de este dataframe. </br>\n",
    "Se mantendrán las filas con los datos de esos locales en el dataframe de pizzerias ya que indican cantidad de reseñas y avg_rating. </br>"
   ]
  },
  {
   "cell_type": "code",
   "execution_count": 40,
   "metadata": {},
   "outputs": [],
   "source": [
    "# elimino las filas de los locales sin reseñas\n",
    "df_pizza_CANV_rev1 = df_pizza_CANV_rev[df_pizza_CANV_rev['user_id'].notna()]"
   ]
  },
  {
   "cell_type": "code",
   "execution_count": 41,
   "metadata": {},
   "outputs": [
    {
     "data": {
      "text/html": [
       "<div>\n",
       "<style scoped>\n",
       "    .dataframe tbody tr th:only-of-type {\n",
       "        vertical-align: middle;\n",
       "    }\n",
       "\n",
       "    .dataframe tbody tr th {\n",
       "        vertical-align: top;\n",
       "    }\n",
       "\n",
       "    .dataframe thead th {\n",
       "        text-align: right;\n",
       "    }\n",
       "</style>\n",
       "<table border=\"1\" class=\"dataframe\">\n",
       "  <thead>\n",
       "    <tr style=\"text-align: right;\">\n",
       "      <th></th>\n",
       "      <th>gmap_id</th>\n",
       "      <th>business_name</th>\n",
       "      <th>address</th>\n",
       "      <th>city</th>\n",
       "      <th>state</th>\n",
       "      <th>zip_code</th>\n",
       "      <th>latitude</th>\n",
       "      <th>longitude</th>\n",
       "      <th>avg_rating</th>\n",
       "      <th>num_of_reviews</th>\n",
       "      <th>user_id</th>\n",
       "      <th>user_name</th>\n",
       "      <th>rating</th>\n",
       "      <th>text</th>\n",
       "      <th>date</th>\n",
       "    </tr>\n",
       "  </thead>\n",
       "  <tbody>\n",
       "    <tr>\n",
       "      <th>0</th>\n",
       "      <td>0x80c2c7726b53b8e5:0xad288d11654f5e48</td>\n",
       "      <td>PIZZA ROW RECORDS</td>\n",
       "      <td>433 E 7th St</td>\n",
       "      <td>Los Angeles</td>\n",
       "      <td>CA</td>\n",
       "      <td>90014</td>\n",
       "      <td>34.041406</td>\n",
       "      <td>-118.247477</td>\n",
       "      <td>4.3</td>\n",
       "      <td>34</td>\n",
       "      <td>1.159800e+20</td>\n",
       "      <td>Patrick Sutter</td>\n",
       "      <td>5.0</td>\n",
       "      <td>Oh man, this little pizzeria carries the best ...</td>\n",
       "      <td>2019-08-10 16:42:31.213</td>\n",
       "    </tr>\n",
       "    <tr>\n",
       "      <th>1</th>\n",
       "      <td>0x80c2c7726b53b8e5:0xad288d11654f5e48</td>\n",
       "      <td>PIZZA ROW RECORDS</td>\n",
       "      <td>433 E 7th St</td>\n",
       "      <td>Los Angeles</td>\n",
       "      <td>CA</td>\n",
       "      <td>90014</td>\n",
       "      <td>34.041406</td>\n",
       "      <td>-118.247477</td>\n",
       "      <td>4.3</td>\n",
       "      <td>34</td>\n",
       "      <td>1.062145e+20</td>\n",
       "      <td>Branden Montgomery</td>\n",
       "      <td>4.0</td>\n",
       "      <td>Excellent service and food 🍕😋</td>\n",
       "      <td>2021-08-22 21:24:59.592</td>\n",
       "    </tr>\n",
       "    <tr>\n",
       "      <th>2</th>\n",
       "      <td>0x80c2c7726b53b8e5:0xad288d11654f5e48</td>\n",
       "      <td>PIZZA ROW RECORDS</td>\n",
       "      <td>433 E 7th St</td>\n",
       "      <td>Los Angeles</td>\n",
       "      <td>CA</td>\n",
       "      <td>90014</td>\n",
       "      <td>34.041406</td>\n",
       "      <td>-118.247477</td>\n",
       "      <td>4.3</td>\n",
       "      <td>34</td>\n",
       "      <td>1.029614e+20</td>\n",
       "      <td>Bubba Barks</td>\n",
       "      <td>4.0</td>\n",
       "      <td>I'm from NYC, so I would call myself a pizza 🍕...</td>\n",
       "      <td>2019-09-13 07:05:09.213</td>\n",
       "    </tr>\n",
       "    <tr>\n",
       "      <th>3</th>\n",
       "      <td>0x80c2c7726b53b8e5:0xad288d11654f5e48</td>\n",
       "      <td>PIZZA ROW RECORDS</td>\n",
       "      <td>433 E 7th St</td>\n",
       "      <td>Los Angeles</td>\n",
       "      <td>CA</td>\n",
       "      <td>90014</td>\n",
       "      <td>34.041406</td>\n",
       "      <td>-118.247477</td>\n",
       "      <td>4.3</td>\n",
       "      <td>34</td>\n",
       "      <td>1.089620e+20</td>\n",
       "      <td>Kathryn Nguyen</td>\n",
       "      <td>5.0</td>\n",
       "      <td>That is some good pizza, and very tasty wings ...</td>\n",
       "      <td>2019-11-28 07:44:09.374</td>\n",
       "    </tr>\n",
       "    <tr>\n",
       "      <th>4</th>\n",
       "      <td>0x80c2c7726b53b8e5:0xad288d11654f5e48</td>\n",
       "      <td>PIZZA ROW RECORDS</td>\n",
       "      <td>433 E 7th St</td>\n",
       "      <td>Los Angeles</td>\n",
       "      <td>CA</td>\n",
       "      <td>90014</td>\n",
       "      <td>34.041406</td>\n",
       "      <td>-118.247477</td>\n",
       "      <td>4.3</td>\n",
       "      <td>34</td>\n",
       "      <td>1.172350e+20</td>\n",
       "      <td>Jose Hernandez</td>\n",
       "      <td>5.0</td>\n",
       "      <td>This place is awesome great service from the o...</td>\n",
       "      <td>2019-08-25 14:23:22.205</td>\n",
       "    </tr>\n",
       "  </tbody>\n",
       "</table>\n",
       "</div>"
      ],
      "text/plain": [
       "                                 gmap_id      business_name       address  \\\n",
       "0  0x80c2c7726b53b8e5:0xad288d11654f5e48  PIZZA ROW RECORDS  433 E 7th St   \n",
       "1  0x80c2c7726b53b8e5:0xad288d11654f5e48  PIZZA ROW RECORDS  433 E 7th St   \n",
       "2  0x80c2c7726b53b8e5:0xad288d11654f5e48  PIZZA ROW RECORDS  433 E 7th St   \n",
       "3  0x80c2c7726b53b8e5:0xad288d11654f5e48  PIZZA ROW RECORDS  433 E 7th St   \n",
       "4  0x80c2c7726b53b8e5:0xad288d11654f5e48  PIZZA ROW RECORDS  433 E 7th St   \n",
       "\n",
       "          city state zip_code   latitude   longitude  avg_rating  \\\n",
       "0  Los Angeles    CA    90014  34.041406 -118.247477         4.3   \n",
       "1  Los Angeles    CA    90014  34.041406 -118.247477         4.3   \n",
       "2  Los Angeles    CA    90014  34.041406 -118.247477         4.3   \n",
       "3  Los Angeles    CA    90014  34.041406 -118.247477         4.3   \n",
       "4  Los Angeles    CA    90014  34.041406 -118.247477         4.3   \n",
       "\n",
       "   num_of_reviews       user_id           user_name  rating  \\\n",
       "0              34  1.159800e+20      Patrick Sutter     5.0   \n",
       "1              34  1.062145e+20  Branden Montgomery     4.0   \n",
       "2              34  1.029614e+20         Bubba Barks     4.0   \n",
       "3              34  1.089620e+20      Kathryn Nguyen     5.0   \n",
       "4              34  1.172350e+20      Jose Hernandez     5.0   \n",
       "\n",
       "                                                text                    date  \n",
       "0  Oh man, this little pizzeria carries the best ... 2019-08-10 16:42:31.213  \n",
       "1                      Excellent service and food 🍕😋 2021-08-22 21:24:59.592  \n",
       "2  I'm from NYC, so I would call myself a pizza 🍕... 2019-09-13 07:05:09.213  \n",
       "3  That is some good pizza, and very tasty wings ... 2019-11-28 07:44:09.374  \n",
       "4  This place is awesome great service from the o... 2019-08-25 14:23:22.205  "
      ]
     },
     "execution_count": 41,
     "metadata": {},
     "output_type": "execute_result"
    }
   ],
   "source": [
    "df_pizza_CANV_rev1.head()"
   ]
  },
  {
   "cell_type": "code",
   "execution_count": 42,
   "metadata": {},
   "outputs": [
    {
     "data": {
      "text/html": [
       "<div>\n",
       "<style scoped>\n",
       "    .dataframe tbody tr th:only-of-type {\n",
       "        vertical-align: middle;\n",
       "    }\n",
       "\n",
       "    .dataframe tbody tr th {\n",
       "        vertical-align: top;\n",
       "    }\n",
       "\n",
       "    .dataframe thead th {\n",
       "        text-align: right;\n",
       "    }\n",
       "</style>\n",
       "<table border=\"1\" class=\"dataframe\">\n",
       "  <thead>\n",
       "    <tr style=\"text-align: right;\">\n",
       "      <th></th>\n",
       "      <th>gmap_id</th>\n",
       "    </tr>\n",
       "    <tr>\n",
       "      <th>state</th>\n",
       "      <th></th>\n",
       "    </tr>\n",
       "  </thead>\n",
       "  <tbody>\n",
       "    <tr>\n",
       "      <th>CA</th>\n",
       "      <td>27574</td>\n",
       "    </tr>\n",
       "    <tr>\n",
       "      <th>NV</th>\n",
       "      <td>7331</td>\n",
       "    </tr>\n",
       "  </tbody>\n",
       "</table>\n",
       "</div>"
      ],
      "text/plain": [
       "       gmap_id\n",
       "state         \n",
       "CA       27574\n",
       "NV        7331"
      ]
     },
     "execution_count": 42,
     "metadata": {},
     "output_type": "execute_result"
    }
   ],
   "source": [
    "# cuento la cantidad de reseñas de pizzerias en cada estado / no puedo contar con una sola columna\n",
    "df_pizza_CANV_rev1[['state', 'gmap_id' ]].groupby('state').count()"
   ]
  },
  {
   "cell_type": "markdown",
   "metadata": {},
   "source": [
    "Hay 27574 reseñas para locales del estado de CA y 7331 reseñas para locales del estado de NV"
   ]
  },
  {
   "cell_type": "code",
   "execution_count": 43,
   "metadata": {},
   "outputs": [],
   "source": [
    "# guardo df_pizza_NJNY_rev\n",
    "df_pizza_CANV_rev1.to_parquet(r'C:\\Users\\gonza\\OneDrive\\Desktop\\Proyecto Grupal Henry\\Maps\\df_pizza_CANV_rev.parquet' , engine='fastparquet')"
   ]
  }
 ],
 "metadata": {
  "kernelspec": {
   "display_name": "Python 3",
   "language": "python",
   "name": "python3"
  },
  "language_info": {
   "codemirror_mode": {
    "name": "ipython",
    "version": 3
   },
   "file_extension": ".py",
   "mimetype": "text/x-python",
   "name": "python",
   "nbconvert_exporter": "python",
   "pygments_lexer": "ipython3",
   "version": "3.10.11"
  }
 },
 "nbformat": 4,
 "nbformat_minor": 2
}
